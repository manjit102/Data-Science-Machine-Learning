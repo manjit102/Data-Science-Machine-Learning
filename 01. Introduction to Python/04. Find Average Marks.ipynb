{
 "cells": [
  {
   "cell_type": "markdown",
   "id": "037be747",
   "metadata": {},
   "source": [
    "# <font color = 'red'>Find Average Marks</font>"
   ]
  },
  {
   "cell_type": "markdown",
   "id": "f68f3dc4",
   "metadata": {},
   "source": [
    "Write a program to input marks of three tests of a student (all integers). Then calculate and print the average of all test marks."
   ]
  },
  {
   "cell_type": "code",
   "execution_count": 1,
   "id": "3dbb89fb",
   "metadata": {},
   "outputs": [
    {
     "name": "stdout",
     "output_type": "stream",
     "text": [
      "Enter the marks of the student in first test : 12\n",
      "Enter the marks of the student in second test : 45\n",
      "Enter the marks of the student in third test : 85\n"
     ]
    }
   ],
   "source": [
    "m1 = int(input('Enter the marks of the student in first test : '))\n",
    "m2 = int(input('Enter the marks of the student in second test : '))\n",
    "m3 = int(input('Enter the marks of the student in third test : '))"
   ]
  },
  {
   "cell_type": "code",
   "execution_count": 2,
   "id": "2171da1b",
   "metadata": {},
   "outputs": [
    {
     "name": "stdout",
     "output_type": "stream",
     "text": [
      "The Average Marks is  47.33\n"
     ]
    }
   ],
   "source": [
    "avg_marks = (m1+m2+m3)/3\n",
    "print('The Average Marks is ', round(avg_marks, 2))"
   ]
  }
 ],
 "metadata": {
  "kernelspec": {
   "display_name": "Python 3 (ipykernel)",
   "language": "python",
   "name": "python3"
  },
  "language_info": {
   "codemirror_mode": {
    "name": "ipython",
    "version": 3
   },
   "file_extension": ".py",
   "mimetype": "text/x-python",
   "name": "python",
   "nbconvert_exporter": "python",
   "pygments_lexer": "ipython3",
   "version": "3.11.5"
  }
 },
 "nbformat": 4,
 "nbformat_minor": 5
}
