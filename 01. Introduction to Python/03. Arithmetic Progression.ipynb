{
 "cells": [
  {
   "cell_type": "markdown",
   "id": "961ffb61",
   "metadata": {},
   "source": [
    "# <font color = 'red'>Arithmetic Progression</font>"
   ]
  },
  {
   "cell_type": "markdown",
   "id": "5bd0a757",
   "metadata": {},
   "source": [
    "You need to calculate the common difference of three integer which are in arithmetic progression"
   ]
  },
  {
   "cell_type": "code",
   "execution_count": 1,
   "id": "05eb73ad",
   "metadata": {},
   "outputs": [
    {
     "name": "stdout",
     "output_type": "stream",
     "text": [
      "Enter the three integral value which are in A.P.: \n",
      "First Number: 12\n",
      "Second Number: 9\n",
      "Third Number: 6\n"
     ]
    }
   ],
   "source": [
    "print('Enter the three integral value which are in A.P.: ')\n",
    "a = int(input('First Number: '))\n",
    "b = int(input('Second Number: '))\n",
    "c = int(input('Third Number: '))"
   ]
  },
  {
   "cell_type": "code",
   "execution_count": 2,
   "id": "ca066439",
   "metadata": {},
   "outputs": [
    {
     "name": "stdout",
     "output_type": "stream",
     "text": [
      "The Common difference of the given A.P is  -3\n"
     ]
    }
   ],
   "source": [
    "if (b-a == c-b):\n",
    "    print('The Common difference of the given A.P is ', b-a)\n",
    "else:\n",
    "    print('The given numbers are not in A.P')"
   ]
  }
 ],
 "metadata": {
  "kernelspec": {
   "display_name": "Python 3 (ipykernel)",
   "language": "python",
   "name": "python3"
  },
  "language_info": {
   "codemirror_mode": {
    "name": "ipython",
    "version": 3
   },
   "file_extension": ".py",
   "mimetype": "text/x-python",
   "name": "python",
   "nbconvert_exporter": "python",
   "pygments_lexer": "ipython3",
   "version": "3.11.5"
  }
 },
 "nbformat": 4,
 "nbformat_minor": 5
}
