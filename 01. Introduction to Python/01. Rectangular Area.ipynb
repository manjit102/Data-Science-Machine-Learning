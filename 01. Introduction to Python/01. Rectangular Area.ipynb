{
 "cells": [
  {
   "cell_type": "markdown",
   "id": "112026cf",
   "metadata": {},
   "source": [
    "# <font color = 'red'>Rectangular Area</font>"
   ]
  },
  {
   "cell_type": "markdown",
   "id": "3f2879f3",
   "metadata": {},
   "source": [
    "You are given a rectangle in a plane. The corner coordinates of this rectangle is provided to you. You have to print the amount of area of the plane covered by this rectangles.\n",
    "The end coordinates are provided as four integral values: x1, y1, x2, y2. It is given that x1 < x2 and y1 < y2."
   ]
  },
  {
   "cell_type": "code",
   "execution_count": 1,
   "id": "49ec6c3b",
   "metadata": {},
   "outputs": [
    {
     "name": "stdout",
     "output_type": "stream",
     "text": [
      "Enter the value of x1: 1\n",
      "Enter the value of x2: 2\n",
      "Enter the value of y1: 3\n",
      "Enter the value of y2: 4\n"
     ]
    }
   ],
   "source": [
    "x1 = int(input('Enter the value of x1: '))\n",
    "x2 = int(input('Enter the value of x2: '))\n",
    "y1 = int(input('Enter the value of y1: '))\n",
    "y2 = int(input('Enter the value of y2: '))"
   ]
  },
  {
   "cell_type": "code",
   "execution_count": 2,
   "id": "d00bbec3",
   "metadata": {},
   "outputs": [
    {
     "name": "stdout",
     "output_type": "stream",
     "text": [
      "Area of the Rectangle is  1\n"
     ]
    }
   ],
   "source": [
    "base = abs(x2-x1)\n",
    "height = abs(y2-y1)\n",
    "area = base * height\n",
    "print(\"Area of the Rectangle is \", area)"
   ]
  }
 ],
 "metadata": {
  "kernelspec": {
   "display_name": "Python 3 (ipykernel)",
   "language": "python",
   "name": "python3"
  },
  "language_info": {
   "codemirror_mode": {
    "name": "ipython",
    "version": 3
   },
   "file_extension": ".py",
   "mimetype": "text/x-python",
   "name": "python",
   "nbconvert_exporter": "python",
   "pygments_lexer": "ipython3",
   "version": "3.11.5"
  }
 },
 "nbformat": 4,
 "nbformat_minor": 5
}
