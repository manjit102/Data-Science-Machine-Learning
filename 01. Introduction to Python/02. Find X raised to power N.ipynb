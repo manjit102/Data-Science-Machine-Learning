{
 "cells": [
  {
   "cell_type": "markdown",
   "id": "35271c09",
   "metadata": {},
   "source": [
    "# <font color='red'>Find X raised to power N</font>"
   ]
  },
  {
   "cell_type": "code",
   "execution_count": 1,
   "id": "a731a6ce",
   "metadata": {},
   "outputs": [
    {
     "name": "stdout",
     "output_type": "stream",
     "text": [
      "Enter the value of X: 10\n",
      "Enter the value of N: 5\n"
     ]
    }
   ],
   "source": [
    "X = int(input('Enter the value of X: '))\n",
    "N = int(input('Enter the value of N: '))"
   ]
  },
  {
   "cell_type": "code",
   "execution_count": 2,
   "id": "69a92be2",
   "metadata": {},
   "outputs": [
    {
     "name": "stdout",
     "output_type": "stream",
     "text": [
      "The resultant value is  100000\n"
     ]
    }
   ],
   "source": [
    "result = X ** N\n",
    "print(\"The resultant value is \",result)"
   ]
  }
 ],
 "metadata": {
  "kernelspec": {
   "display_name": "Python 3 (ipykernel)",
   "language": "python",
   "name": "python3"
  },
  "language_info": {
   "codemirror_mode": {
    "name": "ipython",
    "version": 3
   },
   "file_extension": ".py",
   "mimetype": "text/x-python",
   "name": "python",
   "nbconvert_exporter": "python",
   "pygments_lexer": "ipython3",
   "version": "3.11.5"
  }
 },
 "nbformat": 4,
 "nbformat_minor": 5
}
