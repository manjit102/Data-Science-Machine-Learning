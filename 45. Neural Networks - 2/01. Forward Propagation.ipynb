{
 "cells": [
  {
   "cell_type": "markdown",
   "id": "31eb3eea",
   "metadata": {},
   "source": [
    "# <font color = 'red'>Forward Propagation</font>"
   ]
  },
  {
   "cell_type": "markdown",
   "id": "05968f8e",
   "metadata": {},
   "source": [
    "## <font color = 'green'>Single Perceptron</font>"
   ]
  },
  {
   "cell_type": "code",
   "execution_count": 1,
   "id": "deb69f19",
   "metadata": {},
   "outputs": [],
   "source": [
    "# Importing Libraries\n",
    "import numpy as np"
   ]
  },
  {
   "cell_type": "code",
   "execution_count": 2,
   "id": "2cfb9389",
   "metadata": {},
   "outputs": [],
   "source": [
    "# Initialising Inputs and outputs\n",
    "x = np.array([[0,0], [0,1], [1,0], [1,1]])\n",
    "y = np.array([[0, 0, 0, 1]]).T         # For And Operation"
   ]
  },
  {
   "cell_type": "code",
   "execution_count": 3,
   "id": "ce93c91c",
   "metadata": {},
   "outputs": [
    {
     "data": {
      "text/plain": [
       "((4, 2), (4, 1))"
      ]
     },
     "execution_count": 3,
     "metadata": {},
     "output_type": "execute_result"
    }
   ],
   "source": [
    "x.shape, y.shape"
   ]
  },
  {
   "cell_type": "code",
   "execution_count": 4,
   "id": "4b071e36",
   "metadata": {},
   "outputs": [],
   "source": [
    "# Initialising Wieghts and bias\n",
    "w = 2*np.random.random((2,1)) - 1\n",
    "b = 2*np.random.random((1,1)) - 1"
   ]
  },
  {
   "cell_type": "code",
   "execution_count": 5,
   "id": "3110d345",
   "metadata": {},
   "outputs": [
    {
     "data": {
      "text/plain": [
       "((2, 1), (1, 1))"
      ]
     },
     "execution_count": 5,
     "metadata": {},
     "output_type": "execute_result"
    }
   ],
   "source": [
    "w.shape, b.shape"
   ]
  },
  {
   "cell_type": "code",
   "execution_count": 6,
   "id": "e5303717",
   "metadata": {},
   "outputs": [],
   "source": [
    "# Defining the Sigmoid Function\n",
    "def sig(z):\n",
    "    return 1/(1+np.exp(-z))"
   ]
  },
  {
   "cell_type": "code",
   "execution_count": 7,
   "id": "58f97af6",
   "metadata": {},
   "outputs": [
    {
     "data": {
      "text/plain": [
       "array([[0.5131759 ],\n",
       "       [0.67535053],\n",
       "       [0.33069816],\n",
       "       [0.49368557]])"
      ]
     },
     "execution_count": 7,
     "metadata": {},
     "output_type": "execute_result"
    }
   ],
   "source": [
    "# Finding the output\n",
    "output_0 = x\n",
    "output_1 = sig(np.dot(x, w) + b)\n",
    "output_1"
   ]
  },
  {
   "cell_type": "markdown",
   "id": "baf000f0",
   "metadata": {},
   "source": [
    "This is not the exactly what we want as output. here we have just done forward propagation, there is a requirement of wieght and bias learning, which will be done later on."
   ]
  },
  {
   "cell_type": "markdown",
   "id": "591396e2",
   "metadata": {},
   "source": [
    "## <font color = 'green'>Perceptron With Hidden Layer</font>"
   ]
  },
  {
   "cell_type": "markdown",
   "id": "5589bc2f",
   "metadata": {},
   "source": [
    "Two hidden layer each has 4 neurons."
   ]
  },
  {
   "cell_type": "code",
   "execution_count": 8,
   "id": "5c4047b2",
   "metadata": {},
   "outputs": [],
   "source": [
    "# Initialising Wieghts and bias\n",
    "weights_0 = 2*np.random.random((2,4)) - 1\n",
    "weights_1 = 2*np.random.random((4,4)) - 1\n",
    "weights_2 = 2*np.random.random((4,1)) - 1\n",
    "\n",
    "bias_0 = 2*np.random.random((1,4)) - 1\n",
    "bias_1 = 2*np.random.random((1,4)) - 1\n",
    "bias_2 = 2*np.random.random((1,1)) - 1"
   ]
  },
  {
   "cell_type": "code",
   "execution_count": 9,
   "id": "d991accb",
   "metadata": {},
   "outputs": [
    {
     "data": {
      "text/plain": [
       "((2, 4), (4, 4), (4, 1))"
      ]
     },
     "execution_count": 9,
     "metadata": {},
     "output_type": "execute_result"
    }
   ],
   "source": [
    "weights_0.shape, weights_1.shape, weights_2.shape"
   ]
  },
  {
   "cell_type": "code",
   "execution_count": 10,
   "id": "e7396702",
   "metadata": {},
   "outputs": [
    {
     "data": {
      "text/plain": [
       "((1, 4), (1, 4), (1, 1))"
      ]
     },
     "execution_count": 10,
     "metadata": {},
     "output_type": "execute_result"
    }
   ],
   "source": [
    "bias_0.shape, bias_1.shape, bias_2.shape"
   ]
  },
  {
   "cell_type": "code",
   "execution_count": 11,
   "id": "355a59fc",
   "metadata": {},
   "outputs": [
    {
     "data": {
      "text/plain": [
       "array([[0.68552211],\n",
       "       [0.67939539],\n",
       "       [0.68606327],\n",
       "       [0.67907123]])"
      ]
     },
     "execution_count": 11,
     "metadata": {},
     "output_type": "execute_result"
    }
   ],
   "source": [
    "# Finding the output\n",
    "output_0 = x   # output to input layer\n",
    "output_1 = sig(np.dot(x, weights_0) + bias_0)   # output of hidden layer 1\n",
    "output_2 = sig(np.dot(output_1, weights_1) + bias_1)     # output of the hidden layer 2\n",
    "output = sig(np.dot(output_2, weights_2) + bias_2)       # output of the output layer\n",
    "output"
   ]
  },
  {
   "cell_type": "code",
   "execution_count": null,
   "id": "1966e6d6",
   "metadata": {},
   "outputs": [],
   "source": []
  }
 ],
 "metadata": {
  "kernelspec": {
   "display_name": "Python 3 (ipykernel)",
   "language": "python",
   "name": "python3"
  },
  "language_info": {
   "codemirror_mode": {
    "name": "ipython",
    "version": 3
   },
   "file_extension": ".py",
   "mimetype": "text/x-python",
   "name": "python",
   "nbconvert_exporter": "python",
   "pygments_lexer": "ipython3",
   "version": "3.11.5"
  }
 },
 "nbformat": 4,
 "nbformat_minor": 5
}
