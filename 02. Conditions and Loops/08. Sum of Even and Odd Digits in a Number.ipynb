{
 "cells": [
  {
   "cell_type": "markdown",
   "id": "42b0d751",
   "metadata": {},
   "source": [
    "# <font color = 'red'>Sum of Even and Odd Digits in a Number</font>"
   ]
  },
  {
   "cell_type": "markdown",
   "id": "9af33505",
   "metadata": {},
   "source": [
    "Write a program to input an integer N and print the sum of all its even digits and sum of all its odd digits separately.\n",
    "Digits mean numbers, not the places! That is, if the given integer is \"13245\", even digits are 2 & 4 and odd digits are 1, 3 & 5.\n"
   ]
  },
  {
   "cell_type": "code",
   "execution_count": 1,
   "id": "3e163a8a",
   "metadata": {},
   "outputs": [
    {
     "name": "stdout",
     "output_type": "stream",
     "text": [
      "Enter the number : 123456789987654321\n",
      "The sum of all its odd digits is :  50\n",
      "The sum of all its even digits is :  40\n"
     ]
    }
   ],
   "source": [
    "n = int(input('Enter the number : '))\n",
    "\n",
    "x = n\n",
    "odd_sum = 0\n",
    "even_sum = 0\n",
    "while x != 0:\n",
    "    r = x % 10\n",
    "    if r % 2 == 0:\n",
    "        even_sum = even_sum + r\n",
    "    else:\n",
    "        odd_sum = odd_sum + r\n",
    "    x = x // 10\n",
    "print('The sum of all its odd digits is : ', odd_sum)\n",
    "print('The sum of all its even digits is : ', even_sum)"
   ]
  },
  {
   "cell_type": "code",
   "execution_count": null,
   "id": "d1ca2881",
   "metadata": {},
   "outputs": [],
   "source": []
  }
 ],
 "metadata": {
  "kernelspec": {
   "display_name": "Python 3 (ipykernel)",
   "language": "python",
   "name": "python3"
  },
  "language_info": {
   "codemirror_mode": {
    "name": "ipython",
    "version": 3
   },
   "file_extension": ".py",
   "mimetype": "text/x-python",
   "name": "python",
   "nbconvert_exporter": "python",
   "pygments_lexer": "ipython3",
   "version": "3.11.5"
  }
 },
 "nbformat": 4,
 "nbformat_minor": 5
}
