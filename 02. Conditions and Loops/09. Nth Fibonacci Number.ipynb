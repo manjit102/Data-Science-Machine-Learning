{
 "cells": [
  {
   "cell_type": "markdown",
   "id": "ff44a5fb",
   "metadata": {},
   "source": [
    "# <font color = 'red'>Nth Fibonacci Number</font>"
   ]
  },
  {
   "cell_type": "markdown",
   "id": "1d1babf4",
   "metadata": {},
   "source": [
    "Nth term of fibonacci series F(n) is calculated using following formula -\n",
    "* F(n) = F(n-1) + F(n-2), Where, F(1) = F(2) = 1, Provided N, you have to find out the Nth Fibonacci Number.\n"
   ]
  },
  {
   "cell_type": "code",
   "execution_count": 1,
   "id": "887f6b81",
   "metadata": {},
   "outputs": [
    {
     "name": "stdout",
     "output_type": "stream",
     "text": [
      "Enter the Number : 52\n",
      "Nth number is :  32951280099\n"
     ]
    }
   ],
   "source": [
    "n = int(input('Enter the Number : '))\n",
    "\n",
    "num1 = 1\n",
    "num2 = 1\n",
    "num3 = 0\n",
    "if n == 1 or n == 2:\n",
    "    print('Nth number is : ',1)\n",
    "else:\n",
    "    count = 3\n",
    "    while count <= n:\n",
    "        num3 = num1 + num2\n",
    "        num1 = num2\n",
    "        num2 = num3\n",
    "        count = count + 1\n",
    "    print('Nth number is : ', num3)\n"
   ]
  },
  {
   "cell_type": "code",
   "execution_count": null,
   "id": "9d19d482",
   "metadata": {},
   "outputs": [],
   "source": []
  }
 ],
 "metadata": {
  "kernelspec": {
   "display_name": "Python 3 (ipykernel)",
   "language": "python",
   "name": "python3"
  },
  "language_info": {
   "codemirror_mode": {
    "name": "ipython",
    "version": 3
   },
   "file_extension": ".py",
   "mimetype": "text/x-python",
   "name": "python",
   "nbconvert_exporter": "python",
   "pygments_lexer": "ipython3",
   "version": "3.11.5"
  }
 },
 "nbformat": 4,
 "nbformat_minor": 5
}
