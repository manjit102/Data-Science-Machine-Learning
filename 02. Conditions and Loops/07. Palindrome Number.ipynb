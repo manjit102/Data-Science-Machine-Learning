{
 "cells": [
  {
   "cell_type": "markdown",
   "id": "b335cc46",
   "metadata": {},
   "source": [
    "# <font color = 'red'>Palindrome Number</font>"
   ]
  },
  {
   "cell_type": "markdown",
   "id": "36f01e29",
   "metadata": {},
   "source": [
    "Write a Program to determine if a given number is palindrome or not. print true if it is palindrome, false otherwise.\n",
    "* Palindrome are the numbers for which reverse is exactly same as the original one."
   ]
  },
  {
   "cell_type": "code",
   "execution_count": 1,
   "id": "efb23883",
   "metadata": {},
   "outputs": [
    {
     "name": "stdout",
     "output_type": "stream",
     "text": [
      "Enter the number : 123456789000987654321\n",
      "True\n"
     ]
    }
   ],
   "source": [
    "n = int(input('Enter the number : '))\n",
    "\n",
    "x = n\n",
    "num = 0\n",
    "\n",
    "while x != 0:\n",
    "    r = x % 10\n",
    "    x = x // 10\n",
    "    num = num * 10 + r\n",
    "\n",
    "if num == n:\n",
    "    print(True)\n",
    "else:\n",
    "    print(False)"
   ]
  },
  {
   "cell_type": "code",
   "execution_count": null,
   "id": "28ea95ac",
   "metadata": {},
   "outputs": [],
   "source": []
  }
 ],
 "metadata": {
  "kernelspec": {
   "display_name": "Python 3 (ipykernel)",
   "language": "python",
   "name": "python3"
  },
  "language_info": {
   "codemirror_mode": {
    "name": "ipython",
    "version": 3
   },
   "file_extension": ".py",
   "mimetype": "text/x-python",
   "name": "python",
   "nbconvert_exporter": "python",
   "pygments_lexer": "ipython3",
   "version": "3.11.5"
  }
 },
 "nbformat": 4,
 "nbformat_minor": 5
}
