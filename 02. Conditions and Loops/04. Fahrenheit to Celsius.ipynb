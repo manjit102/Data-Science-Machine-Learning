{
 "cells": [
  {
   "cell_type": "markdown",
   "id": "cd6bcf54",
   "metadata": {},
   "source": [
    "# <font color = 'red'>Fahrenheit to Celsius</font>"
   ]
  },
  {
   "cell_type": "markdown",
   "id": "ab43b2f7",
   "metadata": {},
   "source": [
    "Given three integer values - Start Fahrenheit Value (S), End Fahrenheit value (E) and Step Size (W), you need to convert all Fahrenheit values from Start to End at the gap of W, into their corresponding Celsius values and print the table."
   ]
  },
  {
   "cell_type": "code",
   "execution_count": 1,
   "id": "08e6e81b",
   "metadata": {},
   "outputs": [
    {
     "name": "stdout",
     "output_type": "stream",
     "text": [
      "Enter the start Fahrenheit value : -40\n",
      "Enter the end Fahrenheit value : 200\n",
      "Enter the step size : 20\n",
      "-40 -40\n",
      "-20 -28\n",
      "0 -17\n",
      "20 -6\n",
      "40 4\n",
      "60 15\n",
      "80 26\n",
      "100 37\n",
      "120 48\n",
      "140 60\n",
      "160 71\n",
      "180 82\n",
      "200 93\n"
     ]
    }
   ],
   "source": [
    "S = int(input('Enter the start Fahrenheit value : '))\n",
    "E = int(input('Enter the end Fahrenheit value : '))\n",
    "W = int(input('Enter the step size : '))\n",
    "\n",
    "c = 0\n",
    "\n",
    "while S <= E:\n",
    "    c = int((S - 32)*5/9)\n",
    "    print(S, c)\n",
    "    S = S + W"
   ]
  }
 ],
 "metadata": {
  "kernelspec": {
   "display_name": "Python 3 (ipykernel)",
   "language": "python",
   "name": "python3"
  },
  "language_info": {
   "codemirror_mode": {
    "name": "ipython",
    "version": 3
   },
   "file_extension": ".py",
   "mimetype": "text/x-python",
   "name": "python",
   "nbconvert_exporter": "python",
   "pygments_lexer": "ipython3",
   "version": "3.11.5"
  }
 },
 "nbformat": 4,
 "nbformat_minor": 5
}
