{
 "cells": [
  {
   "cell_type": "markdown",
   "id": "3eb07ef8",
   "metadata": {},
   "source": [
    "# <font color ='red'>Reverse a Number</font>"
   ]
  },
  {
   "cell_type": "markdown",
   "id": "8f8f9d0e",
   "metadata": {},
   "source": [
    "Write a program to generate the reverse of a given number N. Print the corresponding reverse number.\n",
    "* Note : If a number has trailing zeros, then its reverse will not include them. \n",
    "* For e.g., reverse of 10400 will be 401 instead of 00401."
   ]
  },
  {
   "cell_type": "code",
   "execution_count": 1,
   "id": "93ad50e3",
   "metadata": {},
   "outputs": [
    {
     "name": "stdout",
     "output_type": "stream",
     "text": [
      "Enter the number : 12345678900\n",
      "Reversed Number is  987654321\n"
     ]
    }
   ],
   "source": [
    "n = int(input('Enter the number : '))\n",
    "\n",
    "x = n\n",
    "num = 0\n",
    "while x != 0:\n",
    "    r = x % 10\n",
    "    x = x // 10\n",
    "    num = num * 10 + r\n",
    "print('Reversed Number is ', num)"
   ]
  },
  {
   "cell_type": "code",
   "execution_count": null,
   "id": "b2a13d9a",
   "metadata": {},
   "outputs": [],
   "source": []
  }
 ],
 "metadata": {
  "kernelspec": {
   "display_name": "Python 3 (ipykernel)",
   "language": "python",
   "name": "python3"
  },
  "language_info": {
   "codemirror_mode": {
    "name": "ipython",
    "version": 3
   },
   "file_extension": ".py",
   "mimetype": "text/x-python",
   "name": "python",
   "nbconvert_exporter": "python",
   "pygments_lexer": "ipython3",
   "version": "3.11.5"
  }
 },
 "nbformat": 4,
 "nbformat_minor": 5
}
