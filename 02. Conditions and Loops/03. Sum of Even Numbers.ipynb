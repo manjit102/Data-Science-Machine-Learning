{
 "cells": [
  {
   "cell_type": "markdown",
   "id": "89ec7344",
   "metadata": {},
   "source": [
    "# <font color = 'red'>Sum of Even Numbers</font>"
   ]
  },
  {
   "cell_type": "markdown",
   "id": "ab415043",
   "metadata": {},
   "source": [
    "Given a number N. Print the sum of all even numbers from 1 to N."
   ]
  },
  {
   "cell_type": "code",
   "execution_count": 1,
   "id": "3639ee5b",
   "metadata": {},
   "outputs": [
    {
     "name": "stdout",
     "output_type": "stream",
     "text": [
      "Enter the number: 9\n",
      "The sum of all even numbers from 1 to 9 is : 20\n"
     ]
    }
   ],
   "source": [
    "n = int(input('Enter the number: '))\n",
    "\n",
    "count = 1\n",
    "sum = 0\n",
    "\n",
    "while count <= n:\n",
    "    if count % 2 == 0:\n",
    "        sum = sum + count\n",
    "    count = count + 1\n",
    "    \n",
    "print('The sum of all even numbers from 1 to',n, 'is :', sum)"
   ]
  },
  {
   "cell_type": "code",
   "execution_count": null,
   "id": "a3777d11",
   "metadata": {},
   "outputs": [],
   "source": []
  }
 ],
 "metadata": {
  "kernelspec": {
   "display_name": "Python 3 (ipykernel)",
   "language": "python",
   "name": "python3"
  },
  "language_info": {
   "codemirror_mode": {
    "name": "ipython",
    "version": 3
   },
   "file_extension": ".py",
   "mimetype": "text/x-python",
   "name": "python",
   "nbconvert_exporter": "python",
   "pygments_lexer": "ipython3",
   "version": "3.11.5"
  }
 },
 "nbformat": 4,
 "nbformat_minor": 5
}
