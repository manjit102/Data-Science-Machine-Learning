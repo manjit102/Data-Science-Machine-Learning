{
 "cells": [
  {
   "cell_type": "markdown",
   "id": "5d4b6266",
   "metadata": {},
   "source": [
    "# <font color = 'red'>Sum of N Numbers</font>"
   ]
  },
  {
   "cell_type": "markdown",
   "id": "a2cc8fb9",
   "metadata": {},
   "source": [
    "Given an integer n. find and print the sum of numbers from 1 to n."
   ]
  },
  {
   "cell_type": "code",
   "execution_count": 1,
   "id": "482649d9",
   "metadata": {},
   "outputs": [
    {
     "name": "stdout",
     "output_type": "stream",
     "text": [
      "Enter the number: 9\n",
      "Resultant Sum is 45\n"
     ]
    }
   ],
   "source": [
    "n = int(input('Enter the number: '))\n",
    "\n",
    "count = 1\n",
    "sum = 0\n",
    "while count <= n:\n",
    "    sum = sum + count\n",
    "    count = count + 1\n",
    "\n",
    "print('Resultant Sum is', sum)"
   ]
  },
  {
   "cell_type": "code",
   "execution_count": null,
   "id": "a84c320b",
   "metadata": {},
   "outputs": [],
   "source": []
  }
 ],
 "metadata": {
  "kernelspec": {
   "display_name": "Python 3 (ipykernel)",
   "language": "python",
   "name": "python3"
  },
  "language_info": {
   "codemirror_mode": {
    "name": "ipython",
    "version": 3
   },
   "file_extension": ".py",
   "mimetype": "text/x-python",
   "name": "python",
   "nbconvert_exporter": "python",
   "pygments_lexer": "ipython3",
   "version": "3.11.5"
  }
 },
 "nbformat": 4,
 "nbformat_minor": 5
}
