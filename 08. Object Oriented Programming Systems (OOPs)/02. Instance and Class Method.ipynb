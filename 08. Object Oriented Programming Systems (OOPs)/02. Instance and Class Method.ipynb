{
 "cells": [
  {
   "cell_type": "markdown",
   "id": "7ff1b6f1",
   "metadata": {},
   "source": [
    "# <font color = 'red'>Object Oriented Programming Systems (OOPs)</font>"
   ]
  },
  {
   "cell_type": "markdown",
   "id": "dc3ede0e",
   "metadata": {},
   "source": [
    "## <font color = 'green'>Instance Method and Class Method</font>"
   ]
  },
  {
   "cell_type": "code",
   "execution_count": 1,
   "id": "dde939f5",
   "metadata": {},
   "outputs": [],
   "source": [
    "# Creating Class\n",
    "\n",
    "class Student:\n",
    "    TotalStudent = 20\n",
    "    ClassTeacherName = 'Shree Ram Sharma'\n",
    "    \n",
    "    # Creating Instance method\n",
    "    def printHello(self):\n",
    "        print('Hello !')\n",
    "        \n",
    "    def printWords(self,str):\n",
    "        print(str)\n",
    "        \n",
    "    def printStudentDetails(self):\n",
    "        print(self.name)\n",
    "        print(self.rollNumber)\n",
    "        print(self.age)\n",
    "        \n",
    "    def addName(self, name):\n",
    "        self.name = name\n",
    "        \n",
    "    # Creating class method\n",
    "    @classmethod\n",
    "    def details(cls):\n",
    "        print(cls.TotalStudent)\n",
    "        print(cls.ClassTeacherName)"
   ]
  },
  {
   "cell_type": "code",
   "execution_count": 2,
   "id": "55db8024",
   "metadata": {},
   "outputs": [],
   "source": [
    "# Creating objects\n",
    "\n",
    "s1 = Student()\n",
    "s2 = Student()\n",
    "s3 = Student()\n",
    "\n",
    "s1.name = 'Manjit Kumar'\n",
    "s1.rollNumber = 20\n",
    "s1.age = 23\n",
    "\n",
    "s2.name = 'Devesh Kumar'\n",
    "s2.rollNumber = 21\n",
    "s2.age = 23"
   ]
  },
  {
   "cell_type": "code",
   "execution_count": 3,
   "id": "eac971f6",
   "metadata": {},
   "outputs": [
    {
     "name": "stdout",
     "output_type": "stream",
     "text": [
      "Hello !\n",
      "Welcome\n",
      "Hello !\n",
      "How are you !\n"
     ]
    }
   ],
   "source": [
    "# Calling the method using object\n",
    "s1.printHello()\n",
    "s1.printWords('Welcome')\n",
    "\n",
    "s2.printHello()\n",
    "s2.printWords('How are you !')"
   ]
  },
  {
   "cell_type": "code",
   "execution_count": 4,
   "id": "c341d8b1",
   "metadata": {},
   "outputs": [
    {
     "name": "stdout",
     "output_type": "stream",
     "text": [
      "Hello !\n",
      "Hello !\n"
     ]
    }
   ],
   "source": [
    "# Calling the method using class\n",
    "Student.printHello(s1)\n",
    "Student.printHello(s2)"
   ]
  },
  {
   "cell_type": "code",
   "execution_count": 5,
   "id": "9f5fd17d",
   "metadata": {},
   "outputs": [
    {
     "name": "stdout",
     "output_type": "stream",
     "text": [
      "Manjit Kumar\n",
      "20\n",
      "23\n",
      "\n",
      "Devesh Kumar\n",
      "21\n",
      "23\n"
     ]
    }
   ],
   "source": [
    "# calling printStudentDetails using object\n",
    "s1.printStudentDetails()\n",
    "print()\n",
    "s2.printStudentDetails()"
   ]
  },
  {
   "cell_type": "code",
   "execution_count": 6,
   "id": "766ea273",
   "metadata": {},
   "outputs": [
    {
     "name": "stdout",
     "output_type": "stream",
     "text": [
      "Manjit Kumar\n",
      "20\n",
      "23\n",
      "\n",
      "Devesh Kumar\n",
      "21\n",
      "23\n"
     ]
    }
   ],
   "source": [
    "# calling printStudentDetails using class\n",
    "Student.printStudentDetails(s1)\n",
    "print()\n",
    "Student.printStudentDetails(s2)"
   ]
  },
  {
   "cell_type": "code",
   "execution_count": 7,
   "id": "0bf839c5",
   "metadata": {},
   "outputs": [
    {
     "name": "stdout",
     "output_type": "stream",
     "text": [
      "{'name': 'Chandra Shekhar'}\n"
     ]
    }
   ],
   "source": [
    "# calling addName function using object\n",
    "s3.addName('Chandra Shekhar')\n",
    "\n",
    "# Printing the object s3\n",
    "print(s3.__dict__)"
   ]
  },
  {
   "cell_type": "code",
   "execution_count": 8,
   "id": "d82db2c2",
   "metadata": {},
   "outputs": [
    {
     "name": "stdout",
     "output_type": "stream",
     "text": [
      "20\n",
      "Shree Ram Sharma\n"
     ]
    }
   ],
   "source": [
    "# Calling class method\n",
    "Student.details()"
   ]
  },
  {
   "cell_type": "code",
   "execution_count": null,
   "id": "38d1354c",
   "metadata": {},
   "outputs": [],
   "source": []
  }
 ],
 "metadata": {
  "kernelspec": {
   "display_name": "Python 3 (ipykernel)",
   "language": "python",
   "name": "python3"
  },
  "language_info": {
   "codemirror_mode": {
    "name": "ipython",
    "version": 3
   },
   "file_extension": ".py",
   "mimetype": "text/x-python",
   "name": "python",
   "nbconvert_exporter": "python",
   "pygments_lexer": "ipython3",
   "version": "3.11.5"
  }
 },
 "nbformat": 4,
 "nbformat_minor": 5
}
