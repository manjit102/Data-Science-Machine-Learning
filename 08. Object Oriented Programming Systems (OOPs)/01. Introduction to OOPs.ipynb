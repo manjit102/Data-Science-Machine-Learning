{
 "cells": [
  {
   "cell_type": "markdown",
   "id": "793c11cb",
   "metadata": {},
   "source": [
    "# <font color = 'red'>Object Oriented Programming Systems (OOPs)</font>"
   ]
  },
  {
   "cell_type": "markdown",
   "id": "9615940e",
   "metadata": {},
   "source": [
    "## <font color = 'green'>Creating Class & Object</font>"
   ]
  },
  {
   "cell_type": "code",
   "execution_count": 1,
   "id": "12d714ce",
   "metadata": {},
   "outputs": [],
   "source": [
    "# Simple class creating\n",
    "class Student:\n",
    "    pass"
   ]
  },
  {
   "cell_type": "code",
   "execution_count": 2,
   "id": "fd6437a2",
   "metadata": {},
   "outputs": [],
   "source": [
    "# Object of class student creating\n",
    "s1 = Student()"
   ]
  },
  {
   "cell_type": "code",
   "execution_count": 3,
   "id": "bc8fb980",
   "metadata": {},
   "outputs": [
    {
     "name": "stdout",
     "output_type": "stream",
     "text": [
      "{'__module__': '__main__', '__dict__': <attribute '__dict__' of 'Student' objects>, '__weakref__': <attribute '__weakref__' of 'Student' objects>, '__doc__': None}\n",
      "\n",
      "{}\n"
     ]
    }
   ],
   "source": [
    "# Printing the class and object student s1\n",
    "print(Student.__dict__)\n",
    "print()\n",
    "print(s1.__dict__)"
   ]
  },
  {
   "cell_type": "code",
   "execution_count": 4,
   "id": "a68c5924",
   "metadata": {},
   "outputs": [
    {
     "name": "stdout",
     "output_type": "stream",
     "text": [
      "{'name': 'Manjit Kumar', 'rollNumber': 102, 'age': 23}\n"
     ]
    }
   ],
   "source": [
    "# Adding attribute to the object s1\n",
    "\n",
    "s1.name = 'Manjit Kumar'\n",
    "s1.rollNumber = 102\n",
    "s1.age = 23\n",
    "\n",
    "# Printing the object s1\n",
    "print(s1.__dict__)"
   ]
  },
  {
   "cell_type": "code",
   "execution_count": 5,
   "id": "aa662c82",
   "metadata": {},
   "outputs": [
    {
     "name": "stdout",
     "output_type": "stream",
     "text": [
      "True\n",
      "{'name': 'Devesh Kumar', 'rollNumber': 102, 'age': 23}\n",
      "Devesh Kumar\n",
      "{'rollNumber': 102, 'age': 23}\n"
     ]
    }
   ],
   "source": [
    "# Using some inbuilt function \n",
    "\n",
    "print(hasattr(s1, 'name'))  # checking name attribute \n",
    "\n",
    "setattr(s1, 'name', 'Devesh Kumar')  # Changing name\n",
    "print(s1.__dict__)\n",
    "\n",
    "print(getattr(s1, 'name'))  # Getting attribute value\n",
    "\n",
    "delattr(s1, 'name')  # Deleting name\n",
    "print(s1.__dict__)"
   ]
  },
  {
   "cell_type": "code",
   "execution_count": 6,
   "id": "731b0782",
   "metadata": {},
   "outputs": [],
   "source": [
    "# Adding attribute to the class\n",
    "\n",
    "Student.TotalStudent = 20\n",
    "Student.ClassTeacher = 'Shree Ram Sharma'"
   ]
  },
  {
   "cell_type": "code",
   "execution_count": 7,
   "id": "e7d67a27",
   "metadata": {},
   "outputs": [
    {
     "name": "stdout",
     "output_type": "stream",
     "text": [
      "{'rollNumber': 102, 'age': 23}\n",
      "{}\n",
      "{}\n",
      "{'__module__': '__main__', '__dict__': <attribute '__dict__' of 'Student' objects>, '__weakref__': <attribute '__weakref__' of 'Student' objects>, '__doc__': None, 'TotalStudent': 20, 'ClassTeacher': 'Shree Ram Sharma'}\n"
     ]
    }
   ],
   "source": [
    "# creating the object\n",
    "s2 = Student()\n",
    "s3 = Student()\n",
    "\n",
    "# printing the all the object\n",
    "print(s1.__dict__)\n",
    "print(s2.__dict__)\n",
    "print(s3.__dict__)\n",
    "print(Student.__dict__)"
   ]
  },
  {
   "cell_type": "code",
   "execution_count": 8,
   "id": "15700715",
   "metadata": {},
   "outputs": [
    {
     "name": "stdout",
     "output_type": "stream",
     "text": [
      "20\n",
      "20\n",
      "20\n",
      "Shree Ram Sharma\n",
      "Shree Ram Sharma\n",
      "Shree Ram Sharma\n"
     ]
    }
   ],
   "source": [
    "# Accessing the class attribute with object\n",
    "print(s1.TotalStudent)\n",
    "print(s2.TotalStudent)\n",
    "print(s3.TotalStudent)\n",
    "print(s1.ClassTeacher)\n",
    "print(s2.ClassTeacher)\n",
    "print(s3.ClassTeacher)"
   ]
  },
  {
   "cell_type": "code",
   "execution_count": null,
   "id": "badaa275",
   "metadata": {},
   "outputs": [],
   "source": []
  },
  {
   "cell_type": "code",
   "execution_count": null,
   "id": "b62988e8",
   "metadata": {},
   "outputs": [],
   "source": []
  }
 ],
 "metadata": {
  "kernelspec": {
   "display_name": "Python 3 (ipykernel)",
   "language": "python",
   "name": "python3"
  },
  "language_info": {
   "codemirror_mode": {
    "name": "ipython",
    "version": 3
   },
   "file_extension": ".py",
   "mimetype": "text/x-python",
   "name": "python",
   "nbconvert_exporter": "python",
   "pygments_lexer": "ipython3",
   "version": "3.11.5"
  }
 },
 "nbformat": 4,
 "nbformat_minor": 5
}
