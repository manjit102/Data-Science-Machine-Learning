{
 "cells": [
  {
   "cell_type": "markdown",
   "id": "fc89d9dd",
   "metadata": {},
   "source": [
    "# <font color = 'red'>Star Pattern</font>"
   ]
  },
  {
   "cell_type": "markdown",
   "id": "dd157f2a",
   "metadata": {},
   "source": [
    "Print the following pattern for the given N number of rows.\n",
    "Pattern for N = 5\n",
    "* ....@\n",
    "* ...@@@\n",
    "* ..@@@@@\n",
    "* .@@@@@@@\n",
    "* @@@@@@@@@\n",
    "* The Dots represent the spaces and @ represent the star."
   ]
  },
  {
   "cell_type": "code",
   "execution_count": 6,
   "id": "a2cbff7a",
   "metadata": {},
   "outputs": [
    {
     "name": "stdout",
     "output_type": "stream",
     "text": [
      "Enter the Number : 11\n",
      "          *\n",
      "         ***\n",
      "        *****\n",
      "       *******\n",
      "      *********\n",
      "     ***********\n",
      "    *************\n",
      "   ***************\n",
      "  *****************\n",
      " *******************\n",
      "*********************\n"
     ]
    }
   ],
   "source": [
    "n = int(input('Enter the Number : '))\n",
    "\n",
    "count = 1\n",
    "while count <= n:\n",
    "    i = 1\n",
    "    while i <= (n+count-1):\n",
    "        if i <= (n-count):\n",
    "            print(' ', end='')\n",
    "        else:\n",
    "            print('*', end = '')\n",
    "        i = i+1\n",
    "    count = count + 1\n",
    "    print()"
   ]
  },
  {
   "cell_type": "code",
   "execution_count": null,
   "id": "e933a075",
   "metadata": {},
   "outputs": [],
   "source": []
  }
 ],
 "metadata": {
  "kernelspec": {
   "display_name": "Python 3 (ipykernel)",
   "language": "python",
   "name": "python3"
  },
  "language_info": {
   "codemirror_mode": {
    "name": "ipython",
    "version": 3
   },
   "file_extension": ".py",
   "mimetype": "text/x-python",
   "name": "python",
   "nbconvert_exporter": "python",
   "pygments_lexer": "ipython3",
   "version": "3.11.5"
  }
 },
 "nbformat": 4,
 "nbformat_minor": 5
}
