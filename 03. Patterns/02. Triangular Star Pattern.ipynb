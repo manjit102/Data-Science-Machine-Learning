{
 "cells": [
  {
   "cell_type": "markdown",
   "id": "cd8290b0",
   "metadata": {},
   "source": [
    "# <font color = 'red'>Triangular Star Pattern</font>"
   ]
  },
  {
   "cell_type": "markdown",
   "id": "0ed53b80",
   "metadata": {},
   "source": [
    "Print the following pattern for the given N number of rows.\n",
    "* Pattern for N = 4\n",
    "* @\n",
    "* @@\n",
    "* @@@\n",
    "* @@@@\n",
    "* @ -> represents star"
   ]
  },
  {
   "cell_type": "code",
   "execution_count": 1,
   "id": "7c2e44c6",
   "metadata": {},
   "outputs": [
    {
     "name": "stdout",
     "output_type": "stream",
     "text": [
      "Enter the number : 9\n",
      "*\n",
      "**\n",
      "***\n",
      "****\n",
      "*****\n",
      "******\n",
      "*******\n",
      "********\n",
      "*********\n"
     ]
    }
   ],
   "source": [
    "n = int(input('Enter the number : '))\n",
    "\n",
    "count = 1\n",
    "while count <= n:\n",
    "    i = 1\n",
    "    while i <= count:\n",
    "        print(\"*\", end = \"\")\n",
    "        i = i + 1\n",
    "    count = count + 1\n",
    "    print(end = '\\n')"
   ]
  },
  {
   "cell_type": "code",
   "execution_count": 2,
   "id": "69949e26",
   "metadata": {},
   "outputs": [
    {
     "name": "stdout",
     "output_type": "stream",
     "text": [
      "Enter the number : 9\n",
      "*\n",
      "**\n",
      "***\n",
      "****\n",
      "*****\n",
      "******\n",
      "*******\n",
      "********\n",
      "*********\n"
     ]
    }
   ],
   "source": [
    "n = int(input('Enter the number : '))\n",
    "\n",
    "count = 1\n",
    "while count <= n:\n",
    "    print(\"*\"*count)\n",
    "    count = count + 1"
   ]
  },
  {
   "cell_type": "code",
   "execution_count": null,
   "id": "79592f59",
   "metadata": {},
   "outputs": [],
   "source": []
  }
 ],
 "metadata": {
  "kernelspec": {
   "display_name": "Python 3 (ipykernel)",
   "language": "python",
   "name": "python3"
  },
  "language_info": {
   "codemirror_mode": {
    "name": "ipython",
    "version": 3
   },
   "file_extension": ".py",
   "mimetype": "text/x-python",
   "name": "python",
   "nbconvert_exporter": "python",
   "pygments_lexer": "ipython3",
   "version": "3.11.5"
  }
 },
 "nbformat": 4,
 "nbformat_minor": 5
}
