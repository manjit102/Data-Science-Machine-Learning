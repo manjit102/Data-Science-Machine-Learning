{
 "cells": [
  {
   "cell_type": "markdown",
   "id": "1f407dbf",
   "metadata": {},
   "source": [
    "# <font color = 'red'>Square Pattern</font>"
   ]
  },
  {
   "cell_type": "markdown",
   "id": "01f5f6db",
   "metadata": {},
   "source": [
    "Print the following pattern for the given N number of rows.\n",
    "* Pattern for N = 4\n",
    "* 4444\n",
    "* 4444\n",
    "* 4444\n",
    "* 4444\n"
   ]
  },
  {
   "cell_type": "code",
   "execution_count": 1,
   "id": "97e389a6",
   "metadata": {},
   "outputs": [
    {
     "name": "stdout",
     "output_type": "stream",
     "text": [
      "Enter the number : 9\n",
      "999999999\n",
      "999999999\n",
      "999999999\n",
      "999999999\n",
      "999999999\n",
      "999999999\n",
      "999999999\n",
      "999999999\n",
      "999999999\n"
     ]
    }
   ],
   "source": [
    "n = int(input('Enter the number : '))\n",
    "\n",
    "count = 1\n",
    "while count <= n:\n",
    "    i = 1\n",
    "    while i <= n:\n",
    "        print(n, end = \"\")\n",
    "        i = i + 1\n",
    "    print(end = '\\n')\n",
    "    count = count + 1"
   ]
  },
  {
   "cell_type": "code",
   "execution_count": null,
   "id": "40057ed1",
   "metadata": {},
   "outputs": [],
   "source": []
  }
 ],
 "metadata": {
  "kernelspec": {
   "display_name": "Python 3 (ipykernel)",
   "language": "python",
   "name": "python3"
  },
  "language_info": {
   "codemirror_mode": {
    "name": "ipython",
    "version": 3
   },
   "file_extension": ".py",
   "mimetype": "text/x-python",
   "name": "python",
   "nbconvert_exporter": "python",
   "pygments_lexer": "ipython3",
   "version": "3.11.5"
  }
 },
 "nbformat": 4,
 "nbformat_minor": 5
}
