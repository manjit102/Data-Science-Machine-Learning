{
 "cells": [
  {
   "cell_type": "markdown",
   "id": "cb95d0a9",
   "metadata": {},
   "source": [
    "# <font color = 'red'>Alpha Pattern</font>"
   ]
  },
  {
   "cell_type": "markdown",
   "id": "b3411f6b",
   "metadata": {},
   "source": [
    "Print the following pattern for the given N number of rows.\n",
    "* Pattern for N = 3\n",
    "* A\n",
    "* BB\n",
    "* CCC\n"
   ]
  },
  {
   "cell_type": "code",
   "execution_count": 1,
   "id": "5ee44ca0",
   "metadata": {},
   "outputs": [
    {
     "name": "stdout",
     "output_type": "stream",
     "text": [
      "Enter the number : 7\n",
      "A\n",
      "BB\n",
      "CCC\n",
      "DDDD\n",
      "EEEEE\n",
      "FFFFFF\n",
      "GGGGGGG\n"
     ]
    }
   ],
   "source": [
    "n = int(input('Enter the number : '))\n",
    "\n",
    "count = 1\n",
    "while count <= n:\n",
    "    i = 1\n",
    "    while i <= count:\n",
    "        c = 64 + count\n",
    "        print(chr(c), end = '')\n",
    "        i = i + 1\n",
    "    count = count + 1\n",
    "    print()"
   ]
  },
  {
   "cell_type": "code",
   "execution_count": null,
   "id": "0c837cf8",
   "metadata": {},
   "outputs": [],
   "source": []
  }
 ],
 "metadata": {
  "kernelspec": {
   "display_name": "Python 3 (ipykernel)",
   "language": "python",
   "name": "python3"
  },
  "language_info": {
   "codemirror_mode": {
    "name": "ipython",
    "version": 3
   },
   "file_extension": ".py",
   "mimetype": "text/x-python",
   "name": "python",
   "nbconvert_exporter": "python",
   "pygments_lexer": "ipython3",
   "version": "3.11.5"
  }
 },
 "nbformat": 4,
 "nbformat_minor": 5
}
