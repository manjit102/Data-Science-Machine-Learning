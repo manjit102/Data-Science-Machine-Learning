{
 "cells": [
  {
   "cell_type": "markdown",
   "id": "2f63fb3c",
   "metadata": {},
   "source": [
    "# <font color = 'red'>Inverted Number Pattern</font>"
   ]
  },
  {
   "cell_type": "markdown",
   "id": "d94290e6",
   "metadata": {},
   "source": [
    "Print the following pattern for the given N number of rows.\n",
    "* Pattern for N = 5\n",
    "* 55555\n",
    "* 4444\n",
    "* 333\n",
    "* 22\n",
    "* 1"
   ]
  },
  {
   "cell_type": "code",
   "execution_count": 5,
   "id": "30191788",
   "metadata": {},
   "outputs": [
    {
     "name": "stdout",
     "output_type": "stream",
     "text": [
      "Enter the number : 9\n",
      "999999999\n",
      "88888888\n",
      "7777777\n",
      "666666\n",
      "55555\n",
      "4444\n",
      "333\n",
      "22\n",
      "1\n"
     ]
    }
   ],
   "source": [
    "n = int(input('Enter the number : '))\n",
    "\n",
    "count = n\n",
    "while count >= 1:\n",
    "    i = 1\n",
    "    while i <= count:\n",
    "        print(count, end = '')\n",
    "        i = i + 1\n",
    "    count = count - 1\n",
    "    print()"
   ]
  },
  {
   "cell_type": "code",
   "execution_count": null,
   "id": "ef4139f1",
   "metadata": {},
   "outputs": [],
   "source": []
  }
 ],
 "metadata": {
  "kernelspec": {
   "display_name": "Python 3 (ipykernel)",
   "language": "python",
   "name": "python3"
  },
  "language_info": {
   "codemirror_mode": {
    "name": "ipython",
    "version": 3
   },
   "file_extension": ".py",
   "mimetype": "text/x-python",
   "name": "python",
   "nbconvert_exporter": "python",
   "pygments_lexer": "ipython3",
   "version": "3.11.5"
  }
 },
 "nbformat": 4,
 "nbformat_minor": 5
}
