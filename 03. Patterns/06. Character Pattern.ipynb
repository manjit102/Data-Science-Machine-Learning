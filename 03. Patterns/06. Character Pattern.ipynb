{
 "cells": [
  {
   "cell_type": "markdown",
   "id": "81788c9a",
   "metadata": {},
   "source": [
    "# <font color = 'red'>Character Pattern</font>"
   ]
  },
  {
   "cell_type": "markdown",
   "id": "732a44cd",
   "metadata": {},
   "source": [
    "Print the following pattern for the given N number of rows.\n",
    "* Pattern for N = 7\n",
    "* A\n",
    "* BC\n",
    "* CDE\n",
    "* DEFG\n",
    "* EFGHI\n",
    "* FGHIJK\n",
    "* GHIJKLM\n",
    "* Constraints : 0 <= N <= 13\n"
   ]
  },
  {
   "cell_type": "code",
   "execution_count": 1,
   "id": "38145e9e",
   "metadata": {},
   "outputs": [
    {
     "name": "stdout",
     "output_type": "stream",
     "text": [
      "Enter the number : 11\n",
      "A\n",
      "BC\n",
      "CDE\n",
      "DEFG\n",
      "EFGHI\n",
      "FGHIJK\n",
      "GHIJKLM\n",
      "HIJKLMNO\n",
      "IJKLMNOPQ\n",
      "JKLMNOPQRS\n",
      "KLMNOPQRSTU\n"
     ]
    }
   ],
   "source": [
    "n = int(input('Enter the number : '))\n",
    "\n",
    "count = 1\n",
    "while count <= n:\n",
    "    i = 1\n",
    "    d = 64 + count - 1\n",
    "    while i <= count:\n",
    "        d = d + 1\n",
    "        print(chr(d), end = '')\n",
    "        i = i + 1\n",
    "    count = count + 1\n",
    "    print()\n",
    "    "
   ]
  },
  {
   "cell_type": "code",
   "execution_count": null,
   "id": "794c62b5",
   "metadata": {},
   "outputs": [],
   "source": []
  }
 ],
 "metadata": {
  "kernelspec": {
   "display_name": "Python 3 (ipykernel)",
   "language": "python",
   "name": "python3"
  },
  "language_info": {
   "codemirror_mode": {
    "name": "ipython",
    "version": 3
   },
   "file_extension": ".py",
   "mimetype": "text/x-python",
   "name": "python",
   "nbconvert_exporter": "python",
   "pygments_lexer": "ipython3",
   "version": "3.11.5"
  }
 },
 "nbformat": 4,
 "nbformat_minor": 5
}
