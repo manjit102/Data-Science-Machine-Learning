{
 "cells": [
  {
   "cell_type": "markdown",
   "id": "063a89b2",
   "metadata": {},
   "source": [
    "# <font color = 'red'>Mirror Number Pattern</font>"
   ]
  },
  {
   "cell_type": "markdown",
   "id": "004a3f83",
   "metadata": {},
   "source": [
    "Print the following pattern for the given number of rows.\n",
    "* Pattern for N = 5\n",
    "* ....1\n",
    "* ...12\n",
    "* ..123\n",
    "* .1234\n",
    "* 12345\n",
    "* The Dots represent spaces"
   ]
  },
  {
   "cell_type": "code",
   "execution_count": 3,
   "id": "800433a4",
   "metadata": {},
   "outputs": [
    {
     "name": "stdout",
     "output_type": "stream",
     "text": [
      "Enter the number : 9\n",
      "        1\n",
      "       12\n",
      "      123\n",
      "     1234\n",
      "    12345\n",
      "   123456\n",
      "  1234567\n",
      " 12345678\n",
      "123456789\n"
     ]
    }
   ],
   "source": [
    "n = int(input('Enter the number : '))\n",
    "\n",
    "count = 1\n",
    "while count <= n:\n",
    "    i = 1\n",
    "    c = 1\n",
    "    while i <= n:\n",
    "        if i <= (n-count):\n",
    "            print(' ', end = '')\n",
    "        else:\n",
    "            print(c, end = '')\n",
    "            c = c + 1\n",
    "        i = i+1\n",
    "    count = count + 1\n",
    "    print()"
   ]
  },
  {
   "cell_type": "code",
   "execution_count": null,
   "id": "a057fef8",
   "metadata": {},
   "outputs": [],
   "source": []
  }
 ],
 "metadata": {
  "kernelspec": {
   "display_name": "Python 3 (ipykernel)",
   "language": "python",
   "name": "python3"
  },
  "language_info": {
   "codemirror_mode": {
    "name": "ipython",
    "version": 3
   },
   "file_extension": ".py",
   "mimetype": "text/x-python",
   "name": "python",
   "nbconvert_exporter": "python",
   "pygments_lexer": "ipython3",
   "version": "3.11.5"
  }
 },
 "nbformat": 4,
 "nbformat_minor": 5
}
