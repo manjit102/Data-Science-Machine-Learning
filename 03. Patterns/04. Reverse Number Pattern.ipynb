{
 "cells": [
  {
   "cell_type": "markdown",
   "id": "2b83a64e",
   "metadata": {},
   "source": [
    "# <font color = 'red'>Reverse Number Pattern</font>"
   ]
  },
  {
   "cell_type": "markdown",
   "id": "a353e910",
   "metadata": {},
   "source": [
    "Print the following pattern for the given N number of rows.\n",
    "* Pattern for N = 4\n",
    "* 1\n",
    "* 21\n",
    "* 321\n",
    "* 4321\n"
   ]
  },
  {
   "cell_type": "code",
   "execution_count": 1,
   "id": "75a69968",
   "metadata": {},
   "outputs": [
    {
     "name": "stdout",
     "output_type": "stream",
     "text": [
      "Enter the Number : 5\n",
      "1\n",
      "21\n",
      "321\n",
      "4321\n",
      "54321\n"
     ]
    }
   ],
   "source": [
    "n = int(input('Enter the Number : '))\n",
    "\n",
    "count = 1\n",
    "while count <= n:\n",
    "    i = count\n",
    "    while i >= 1:\n",
    "        print(i, end = '')\n",
    "        i = i - 1\n",
    "    count = count + 1\n",
    "    print()"
   ]
  },
  {
   "cell_type": "code",
   "execution_count": null,
   "id": "d5c75b44",
   "metadata": {},
   "outputs": [],
   "source": []
  }
 ],
 "metadata": {
  "kernelspec": {
   "display_name": "Python 3 (ipykernel)",
   "language": "python",
   "name": "python3"
  },
  "language_info": {
   "codemirror_mode": {
    "name": "ipython",
    "version": 3
   },
   "file_extension": ".py",
   "mimetype": "text/x-python",
   "name": "python",
   "nbconvert_exporter": "python",
   "pygments_lexer": "ipython3",
   "version": "3.11.5"
  }
 },
 "nbformat": 4,
 "nbformat_minor": 5
}
