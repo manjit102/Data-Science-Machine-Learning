{
 "cells": [
  {
   "cell_type": "markdown",
   "id": "58ee6e79",
   "metadata": {},
   "source": [
    "# <font color = 'red'>Interesting Alphabets</font>"
   ]
  },
  {
   "cell_type": "markdown",
   "id": "32bbc2a8",
   "metadata": {},
   "source": [
    "Print the following pattern for the given number of rows.\n",
    "* Pattern for N = 5\n",
    "* E\n",
    "* DE\n",
    "* CDE\n",
    "* BCDE\n",
    "* ABCDE"
   ]
  },
  {
   "cell_type": "code",
   "execution_count": 1,
   "id": "ed2e808c",
   "metadata": {},
   "outputs": [
    {
     "name": "stdout",
     "output_type": "stream",
     "text": [
      "Enter the number : 26\n",
      "Z\n",
      "YZ\n",
      "XYZ\n",
      "WXYZ\n",
      "VWXYZ\n",
      "UVWXYZ\n",
      "TUVWXYZ\n",
      "STUVWXYZ\n",
      "RSTUVWXYZ\n",
      "QRSTUVWXYZ\n",
      "PQRSTUVWXYZ\n",
      "OPQRSTUVWXYZ\n",
      "NOPQRSTUVWXYZ\n",
      "MNOPQRSTUVWXYZ\n",
      "LMNOPQRSTUVWXYZ\n",
      "KLMNOPQRSTUVWXYZ\n",
      "JKLMNOPQRSTUVWXYZ\n",
      "IJKLMNOPQRSTUVWXYZ\n",
      "HIJKLMNOPQRSTUVWXYZ\n",
      "GHIJKLMNOPQRSTUVWXYZ\n",
      "FGHIJKLMNOPQRSTUVWXYZ\n",
      "EFGHIJKLMNOPQRSTUVWXYZ\n",
      "DEFGHIJKLMNOPQRSTUVWXYZ\n",
      "CDEFGHIJKLMNOPQRSTUVWXYZ\n",
      "BCDEFGHIJKLMNOPQRSTUVWXYZ\n",
      "ABCDEFGHIJKLMNOPQRSTUVWXYZ\n"
     ]
    }
   ],
   "source": [
    "n = int(input('Enter the number : '))\n",
    "\n",
    "count = n\n",
    "while count >= 1:\n",
    "    c = 64 + count - 1\n",
    "    i = 1\n",
    "    while i <= (n-count+1):\n",
    "        print(chr(c+i), end = '')\n",
    "        i = i + 1\n",
    "    count = count - 1\n",
    "    print()"
   ]
  },
  {
   "cell_type": "code",
   "execution_count": null,
   "id": "488d97b4",
   "metadata": {},
   "outputs": [],
   "source": []
  }
 ],
 "metadata": {
  "kernelspec": {
   "display_name": "Python 3 (ipykernel)",
   "language": "python",
   "name": "python3"
  },
  "language_info": {
   "codemirror_mode": {
    "name": "ipython",
    "version": 3
   },
   "file_extension": ".py",
   "mimetype": "text/x-python",
   "name": "python",
   "nbconvert_exporter": "python",
   "pygments_lexer": "ipython3",
   "version": "3.11.5"
  }
 },
 "nbformat": 4,
 "nbformat_minor": 5
}
