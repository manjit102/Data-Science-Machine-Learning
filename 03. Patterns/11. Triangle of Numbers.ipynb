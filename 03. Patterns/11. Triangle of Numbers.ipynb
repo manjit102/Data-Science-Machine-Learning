{
 "cells": [
  {
   "cell_type": "markdown",
   "id": "f32d8bbb",
   "metadata": {},
   "source": [
    "# <font color = 'red'>Triangle of Numbers</font>"
   ]
  },
  {
   "cell_type": "markdown",
   "id": "7cc12d62",
   "metadata": {},
   "source": [
    "Print the following pattern for the given number of rows.\n",
    "* Pattern for N = 5\n",
    "* ....1\n",
    "* ...232\n",
    "* ..34543\n",
    "* .4567654\n",
    "* 567898765\n",
    "* The dots represent the spaces"
   ]
  },
  {
   "cell_type": "code",
   "execution_count": 11,
   "id": "7241f381",
   "metadata": {},
   "outputs": [
    {
     "name": "stdout",
     "output_type": "stream",
     "text": [
      "Enter the Number : 9\n",
      "        1\n",
      "       232\n",
      "      34543\n",
      "     4567654\n",
      "    567898765\n",
      "   67891011109876\n",
      "  78910111213121110987\n",
      " 89101112131415141312111098\n",
      "91011121314151617161514131211109\n"
     ]
    }
   ],
   "source": [
    "n = int(input('Enter the Number : '))\n",
    "\n",
    "count = 1\n",
    "while count <= n:\n",
    "    i = 1\n",
    "    c = count\n",
    "    while i <= (n+count-1):\n",
    "        if i <= (n-count):\n",
    "            print(' ', end = '')\n",
    "        elif i <= n:\n",
    "            print(c, end = '')\n",
    "            c = c + 1\n",
    "        elif i == n+1:\n",
    "            c = c - 2\n",
    "            print(c, end = '')\n",
    "        else:\n",
    "            c = c-1\n",
    "            print(c, end = '')\n",
    "        i = i + 1\n",
    "    count = count + 1\n",
    "    print()"
   ]
  },
  {
   "cell_type": "code",
   "execution_count": null,
   "id": "f47862ce",
   "metadata": {},
   "outputs": [],
   "source": []
  }
 ],
 "metadata": {
  "kernelspec": {
   "display_name": "Python 3 (ipykernel)",
   "language": "python",
   "name": "python3"
  },
  "language_info": {
   "codemirror_mode": {
    "name": "ipython",
    "version": 3
   },
   "file_extension": ".py",
   "mimetype": "text/x-python",
   "name": "python",
   "nbconvert_exporter": "python",
   "pygments_lexer": "ipython3",
   "version": "3.11.5"
  }
 },
 "nbformat": 4,
 "nbformat_minor": 5
}
