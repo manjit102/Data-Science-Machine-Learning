{
 "cells": [
  {
   "cell_type": "markdown",
   "id": "ffbf2306",
   "metadata": {},
   "source": [
    "# <font color = 'red'>Dictionaries</font>"
   ]
  },
  {
   "cell_type": "code",
   "execution_count": 1,
   "id": "28f85628",
   "metadata": {},
   "outputs": [],
   "source": [
    "#creating dictionaries\n",
    "a = {}\n",
    "b = dict()"
   ]
  },
  {
   "cell_type": "code",
   "execution_count": 2,
   "id": "8204f740",
   "metadata": {},
   "outputs": [
    {
     "data": {
      "text/plain": [
       "{}"
      ]
     },
     "execution_count": 2,
     "metadata": {},
     "output_type": "execute_result"
    }
   ],
   "source": [
    "a"
   ]
  },
  {
   "cell_type": "code",
   "execution_count": 3,
   "id": "08875c03",
   "metadata": {},
   "outputs": [
    {
     "data": {
      "text/plain": [
       "{}"
      ]
     },
     "execution_count": 3,
     "metadata": {},
     "output_type": "execute_result"
    }
   ],
   "source": [
    "b"
   ]
  },
  {
   "cell_type": "code",
   "execution_count": 4,
   "id": "d9a51914",
   "metadata": {},
   "outputs": [
    {
     "data": {
      "text/plain": [
       "{'JAI': 3, 'MATA': 4, 'DI': 2}"
      ]
     },
     "execution_count": 4,
     "metadata": {},
     "output_type": "execute_result"
    }
   ],
   "source": [
    "#creating dictionaries\n",
    "c = {'JAI':3, 'MATA':4, 'DI':2}\n",
    "c"
   ]
  },
  {
   "cell_type": "code",
   "execution_count": 7,
   "id": "5b20080f",
   "metadata": {},
   "outputs": [
    {
     "data": {
      "text/plain": [
       "{'JAI': None, 'SHREE': None, 'RAM': None}"
      ]
     },
     "execution_count": 7,
     "metadata": {},
     "output_type": "execute_result"
    }
   ],
   "source": [
    "#creating dictionaries from keys where value will be None \n",
    "d = dict.fromkeys(['JAI', 'SHREE', 'RAM'])\n",
    "d"
   ]
  },
  {
   "cell_type": "code",
   "execution_count": 8,
   "id": "e0fd9180",
   "metadata": {},
   "outputs": [
    {
     "data": {
      "text/plain": [
       "{'JAI': 'BAJARANG BALI', 'SHREE': 'BAJARANG BALI', 'RAM': 'BAJARANG BALI'}"
      ]
     },
     "execution_count": 8,
     "metadata": {},
     "output_type": "execute_result"
    }
   ],
   "source": [
    "#creating dictionaries from keys where values of all Keys will be the argument provided\n",
    "e = dict.fromkeys(['JAI', 'SHREE', 'RAM'],'BAJARANG BALI')\n",
    "e"
   ]
  },
  {
   "cell_type": "code",
   "execution_count": 10,
   "id": "c2a47d34",
   "metadata": {},
   "outputs": [
    {
     "data": {
      "text/plain": [
       "{'JAI': 'BAJARANG BALI', 'SHREE': 'BAJARANG BALI', 'RAM': 'BAJARANG BALI'}"
      ]
     },
     "execution_count": 10,
     "metadata": {},
     "output_type": "execute_result"
    }
   ],
   "source": [
    "# copying the dictionary to another variable\n",
    "f = e.copy()\n",
    "f"
   ]
  },
  {
   "cell_type": "code",
   "execution_count": 13,
   "id": "e46fb749",
   "metadata": {},
   "outputs": [
    {
     "data": {
      "text/plain": [
       "{3: 'JAI', 4: 'MATA', 2: 'DI'}"
      ]
     },
     "execution_count": 13,
     "metadata": {},
     "output_type": "execute_result"
    }
   ],
   "source": [
    "# creating dictionaries using key values pair\n",
    "g = dict([(3,'JAI'),(4,'MATA'),(2,'DI')])\n",
    "g"
   ]
  },
  {
   "cell_type": "markdown",
   "id": "3e9d2d59",
   "metadata": {},
   "source": [
    "# <font color = 'red'>Dictionary Functions</font>"
   ]
  },
  {
   "cell_type": "markdown",
   "id": "717d27e2",
   "metadata": {},
   "source": [
    "## <font color = 'green'>Accesing the keys, and values of dictionary</font>"
   ]
  },
  {
   "cell_type": "code",
   "execution_count": 14,
   "id": "41923d1e",
   "metadata": {},
   "outputs": [
    {
     "data": {
      "text/plain": [
       "{'int': 1,\n",
       " 'str': 'JAI MATA DI',\n",
       " 'tuple': (0, 1, 2),\n",
       " 'dict': {0: 1, 'jmd': 3},\n",
       " 0: 'RAM'}"
      ]
     },
     "execution_count": 14,
     "metadata": {},
     "output_type": "execute_result"
    }
   ],
   "source": [
    "h = {'int':1, 'str':'JAI MATA DI', 'tuple':(0,1,2), 'dict':{0:1, 'jmd':3}, 0:'RAM'}\n",
    "h"
   ]
  },
  {
   "cell_type": "code",
   "execution_count": 15,
   "id": "947e5e59",
   "metadata": {},
   "outputs": [
    {
     "data": {
      "text/plain": [
       "1"
      ]
     },
     "execution_count": 15,
     "metadata": {},
     "output_type": "execute_result"
    }
   ],
   "source": [
    "# Accessing the values using indexing with keys\n",
    "h['int']"
   ]
  },
  {
   "cell_type": "code",
   "execution_count": 16,
   "id": "d4947569",
   "metadata": {},
   "outputs": [
    {
     "data": {
      "text/plain": [
       "(0, 1, 2)"
      ]
     },
     "execution_count": 16,
     "metadata": {},
     "output_type": "execute_result"
    }
   ],
   "source": [
    "h['tuple']"
   ]
  },
  {
   "cell_type": "code",
   "execution_count": 17,
   "id": "9e2ddd3e",
   "metadata": {},
   "outputs": [
    {
     "data": {
      "text/plain": [
       "'RAM'"
      ]
     },
     "execution_count": 17,
     "metadata": {},
     "output_type": "execute_result"
    }
   ],
   "source": [
    "h[0]"
   ]
  },
  {
   "cell_type": "code",
   "execution_count": 18,
   "id": "54b21e95",
   "metadata": {},
   "outputs": [
    {
     "data": {
      "text/plain": [
       "'JAI MATA DI'"
      ]
     },
     "execution_count": 18,
     "metadata": {},
     "output_type": "execute_result"
    }
   ],
   "source": [
    "h['str']"
   ]
  },
  {
   "cell_type": "code",
   "execution_count": 21,
   "id": "193c31ed",
   "metadata": {},
   "outputs": [],
   "source": [
    "# h['7']\n",
    "\n",
    "# if the provided key is not the key in your dictionary, you get an error"
   ]
  },
  {
   "cell_type": "code",
   "execution_count": 22,
   "id": "3ab73b61",
   "metadata": {},
   "outputs": [
    {
     "data": {
      "text/plain": [
       "'JAI MATA DI'"
      ]
     },
     "execution_count": 22,
     "metadata": {},
     "output_type": "execute_result"
    }
   ],
   "source": [
    "# Accessing the value using get function\n",
    "h.get('str')"
   ]
  },
  {
   "cell_type": "code",
   "execution_count": 25,
   "id": "b59fc297",
   "metadata": {},
   "outputs": [
    {
     "name": "stdout",
     "output_type": "stream",
     "text": [
      "None\n"
     ]
    }
   ],
   "source": [
    "print(h.get('ram'))   #if key is not present in your dictionary keys you will get None"
   ]
  },
  {
   "cell_type": "code",
   "execution_count": 28,
   "id": "e01346e5",
   "metadata": {},
   "outputs": [
    {
     "data": {
      "text/plain": [
       "'JAI MATA DI'"
      ]
     },
     "execution_count": 28,
     "metadata": {},
     "output_type": "execute_result"
    }
   ],
   "source": [
    " # if key is present in your dictionary you will get the associated value, otherwise you will get the provided argument\n",
    "    \n",
    "h.get('str', 1234567) "
   ]
  },
  {
   "cell_type": "code",
   "execution_count": 29,
   "id": "279b03ce",
   "metadata": {},
   "outputs": [
    {
     "data": {
      "text/plain": [
       "'JAI HIND'"
      ]
     },
     "execution_count": 29,
     "metadata": {},
     "output_type": "execute_result"
    }
   ],
   "source": [
    "h.get('st', 'JAI HIND')"
   ]
  },
  {
   "cell_type": "code",
   "execution_count": 30,
   "id": "3a401503",
   "metadata": {},
   "outputs": [
    {
     "data": {
      "text/plain": [
       "dict_keys(['int', 'str', 'tuple', 'dict', 0])"
      ]
     },
     "execution_count": 30,
     "metadata": {},
     "output_type": "execute_result"
    }
   ],
   "source": [
    "# Getting all the keys\n",
    "\n",
    "h.keys()"
   ]
  },
  {
   "cell_type": "code",
   "execution_count": 31,
   "id": "3e8c0c92",
   "metadata": {},
   "outputs": [
    {
     "data": {
      "text/plain": [
       "dict_values([1, 'JAI MATA DI', (0, 1, 2), {0: 1, 'jmd': 3}, 'RAM'])"
      ]
     },
     "execution_count": 31,
     "metadata": {},
     "output_type": "execute_result"
    }
   ],
   "source": [
    "# getting all the values\n",
    "\n",
    "h.values()"
   ]
  },
  {
   "cell_type": "code",
   "execution_count": 32,
   "id": "0733d0c0",
   "metadata": {},
   "outputs": [
    {
     "data": {
      "text/plain": [
       "dict_items([('int', 1), ('str', 'JAI MATA DI'), ('tuple', (0, 1, 2)), ('dict', {0: 1, 'jmd': 3}), (0, 'RAM')])"
      ]
     },
     "execution_count": 32,
     "metadata": {},
     "output_type": "execute_result"
    }
   ],
   "source": [
    "# getting all the key values pair\n",
    "\n",
    "h.items()"
   ]
  },
  {
   "cell_type": "code",
   "execution_count": 34,
   "id": "7ca63b62",
   "metadata": {},
   "outputs": [
    {
     "name": "stdout",
     "output_type": "stream",
     "text": [
      "int\n",
      "str\n",
      "tuple\n",
      "dict\n",
      "0\n"
     ]
    }
   ],
   "source": [
    "# using loop in dictionary\n",
    "\n",
    "for i in h:\n",
    "    print(i)    # you will get only keys"
   ]
  },
  {
   "cell_type": "code",
   "execution_count": 35,
   "id": "dff7cdc9",
   "metadata": {},
   "outputs": [
    {
     "name": "stdout",
     "output_type": "stream",
     "text": [
      "int 1\n",
      "str JAI MATA DI\n",
      "tuple (0, 1, 2)\n",
      "dict {0: 1, 'jmd': 3}\n",
      "0 RAM\n"
     ]
    }
   ],
   "source": [
    "for i in h:\n",
    "    print(i, h[i])"
   ]
  },
  {
   "cell_type": "code",
   "execution_count": 36,
   "id": "f3467356",
   "metadata": {},
   "outputs": [
    {
     "name": "stdout",
     "output_type": "stream",
     "text": [
      "1\n",
      "JAI MATA DI\n",
      "(0, 1, 2)\n",
      "{0: 1, 'jmd': 3}\n",
      "RAM\n"
     ]
    }
   ],
   "source": [
    "for i in h.values():\n",
    "    print(i)"
   ]
  },
  {
   "cell_type": "code",
   "execution_count": 37,
   "id": "7f085593",
   "metadata": {},
   "outputs": [
    {
     "data": {
      "text/plain": [
       "True"
      ]
     },
     "execution_count": 37,
     "metadata": {},
     "output_type": "execute_result"
    }
   ],
   "source": [
    "# checking the keys is present in dictionary or not\n",
    "\n",
    "'str' in h"
   ]
  },
  {
   "cell_type": "code",
   "execution_count": 39,
   "id": "2f538f89",
   "metadata": {},
   "outputs": [
    {
     "data": {
      "text/plain": [
       "False"
      ]
     },
     "execution_count": 39,
     "metadata": {},
     "output_type": "execute_result"
    }
   ],
   "source": [
    "'JAI MATA DI' in h   # in will check only keys not the values"
   ]
  },
  {
   "cell_type": "code",
   "execution_count": 40,
   "id": "ec1a9768",
   "metadata": {},
   "outputs": [
    {
     "data": {
      "text/plain": [
       "dict_items([('int', 1), ('str', 'JAI MATA DI'), ('tuple', (0, 1, 2)), ('dict', {0: 1, 'jmd': 3}), (0, 'RAM')])"
      ]
     },
     "execution_count": 40,
     "metadata": {},
     "output_type": "execute_result"
    }
   ],
   "source": [
    "h.items()"
   ]
  },
  {
   "cell_type": "code",
   "execution_count": 41,
   "id": "70348d88",
   "metadata": {},
   "outputs": [
    {
     "data": {
      "text/plain": [
       "False"
      ]
     },
     "execution_count": 41,
     "metadata": {},
     "output_type": "execute_result"
    }
   ],
   "source": [
    "1 in h"
   ]
  },
  {
   "cell_type": "code",
   "execution_count": null,
   "id": "c177518c",
   "metadata": {},
   "outputs": [],
   "source": []
  }
 ],
 "metadata": {
  "kernelspec": {
   "display_name": "Python 3 (ipykernel)",
   "language": "python",
   "name": "python3"
  },
  "language_info": {
   "codemirror_mode": {
    "name": "ipython",
    "version": 3
   },
   "file_extension": ".py",
   "mimetype": "text/x-python",
   "name": "python",
   "nbconvert_exporter": "python",
   "pygments_lexer": "ipython3",
   "version": "3.11.5"
  }
 },
 "nbformat": 4,
 "nbformat_minor": 5
}
