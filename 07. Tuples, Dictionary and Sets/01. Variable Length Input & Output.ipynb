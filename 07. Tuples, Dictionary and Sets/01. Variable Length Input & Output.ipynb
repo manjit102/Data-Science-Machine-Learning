{
 "cells": [
  {
   "cell_type": "markdown",
   "id": "8755731a",
   "metadata": {},
   "source": [
    "# <font color = 'red'>Variable Length Input & Output</font>"
   ]
  },
  {
   "cell_type": "code",
   "execution_count": 1,
   "id": "1e05005a",
   "metadata": {},
   "outputs": [],
   "source": [
    "# Sum function\n",
    "\n",
    "def sum1(a, b, c = 0, d = 0):\n",
    "    return a+b+c+d"
   ]
  },
  {
   "cell_type": "code",
   "execution_count": 2,
   "id": "d1fab524",
   "metadata": {},
   "outputs": [
    {
     "data": {
      "text/plain": [
       "3"
      ]
     },
     "execution_count": 2,
     "metadata": {},
     "output_type": "execute_result"
    }
   ],
   "source": [
    "sum1(1,2)"
   ]
  },
  {
   "cell_type": "code",
   "execution_count": 4,
   "id": "e68522c8",
   "metadata": {},
   "outputs": [
    {
     "data": {
      "text/plain": [
       "16"
      ]
     },
     "execution_count": 4,
     "metadata": {},
     "output_type": "execute_result"
    }
   ],
   "source": [
    "sum1(5,6,5)"
   ]
  },
  {
   "cell_type": "code",
   "execution_count": 6,
   "id": "59f5a608",
   "metadata": {},
   "outputs": [
    {
     "ename": "TypeError",
     "evalue": "sum1() takes from 2 to 4 positional arguments but 5 were given",
     "output_type": "error",
     "traceback": [
      "\u001b[1;31m---------------------------------------------------------------------------\u001b[0m",
      "\u001b[1;31mTypeError\u001b[0m                                 Traceback (most recent call last)",
      "Cell \u001b[1;32mIn[6], line 2\u001b[0m\n\u001b[0;32m      1\u001b[0m \u001b[38;5;66;03m# This will give an error\u001b[39;00m\n\u001b[1;32m----> 2\u001b[0m sum1(\u001b[38;5;241m4\u001b[39m,\u001b[38;5;241m8\u001b[39m,\u001b[38;5;241m9\u001b[39m,\u001b[38;5;241m6\u001b[39m,\u001b[38;5;241m5\u001b[39m)\n",
      "\u001b[1;31mTypeError\u001b[0m: sum1() takes from 2 to 4 positional arguments but 5 were given"
     ]
    }
   ],
   "source": [
    "# This will give an error\n",
    "sum1(4,8,9,6,5)"
   ]
  },
  {
   "cell_type": "code",
   "execution_count": 9,
   "id": "5db005ab",
   "metadata": {},
   "outputs": [],
   "source": [
    "# Variable length input to a function and variable output\n",
    "\n",
    "def sum_prod(a, b, *x):\n",
    "    s = a + b\n",
    "    p = a * b\n",
    "    for i in x:\n",
    "        s = s + i\n",
    "        p = p * i\n",
    "    return s,p"
   ]
  },
  {
   "cell_type": "code",
   "execution_count": 8,
   "id": "485b9db5",
   "metadata": {},
   "outputs": [
    {
     "data": {
      "text/plain": [
       "(42, 134400)"
      ]
     },
     "execution_count": 8,
     "metadata": {},
     "output_type": "execute_result"
    }
   ],
   "source": [
    "sum_prod(1,2,5,6,8,7,8,5)"
   ]
  },
  {
   "cell_type": "code",
   "execution_count": 11,
   "id": "43e51318",
   "metadata": {},
   "outputs": [
    {
     "data": {
      "text/plain": [
       "(10, 21)"
      ]
     },
     "execution_count": 11,
     "metadata": {},
     "output_type": "execute_result"
    }
   ],
   "source": [
    "sum_prod(3,7)"
   ]
  },
  {
   "cell_type": "code",
   "execution_count": null,
   "id": "167dbf88",
   "metadata": {},
   "outputs": [],
   "source": []
  }
 ],
 "metadata": {
  "kernelspec": {
   "display_name": "Python 3 (ipykernel)",
   "language": "python",
   "name": "python3"
  },
  "language_info": {
   "codemirror_mode": {
    "name": "ipython",
    "version": 3
   },
   "file_extension": ".py",
   "mimetype": "text/x-python",
   "name": "python",
   "nbconvert_exporter": "python",
   "pygments_lexer": "ipython3",
   "version": "3.11.5"
  }
 },
 "nbformat": 4,
 "nbformat_minor": 5
}
