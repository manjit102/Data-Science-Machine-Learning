{
 "cells": [
  {
   "cell_type": "markdown",
   "id": "a8a0746b",
   "metadata": {},
   "source": [
    "# <font color = 'red'>Row Wise Sum</font>"
   ]
  },
  {
   "cell_type": "markdown",
   "id": "147d096a",
   "metadata": {},
   "source": [
    "For a given two-dimensional integer array/list of size (N x M), find and print the sum of each of the row elements in a single line, separated by a single space.\n",
    "* **Input Format** :\n",
    "* The first line contains an Integer 't' which denotes the number of test cases or queries to be run. Then the test cases follow.\n",
    "\n",
    "* First line of each test case or query contains two integer values, 'N' and 'M', separated by a single space. They represent the 'rows' and 'columns' respectively, for the two-dimensional array/list.\n",
    "\n",
    "* Second line onwards, the next 'N' lines or rows represent the ith row values.\n",
    "\n",
    "* Each of the ith row constitutes 'M' column values separated by a single space.\n",
    "* **Output Format** :\n",
    "* For each test case, print the sum of every ith row elements in a single line separated by a single space.\n",
    "\n",
    "* **Constraints ** :\n",
    "* 1 <= t <= 10^2\n",
    "* 0 <= N <= 10^3\n",
    "* 0 <= M <= 10^3\n",
    "* Time Limit: 1sec"
   ]
  },
  {
   "cell_type": "markdown",
   "id": "4b101c93",
   "metadata": {},
   "source": [
    "* **Sample Input 1** :\n",
    "* 1\n",
    "* 4 2 \n",
    "* 1 2 \n",
    "* 3 4 \n",
    "* 5 6 \n",
    "* 7 8\n",
    "* **Sample Output 1**:\n",
    "* 3 7 11 15 \n",
    "* **Sample Input 2** :\n",
    "* 2\n",
    "* 2 5 \n",
    "* 4 5 3 2 6 \n",
    "* 7 5 3 8 9\n",
    "* 4 4\n",
    "* 1 2 3 4\n",
    "* 9 8 7 6\n",
    "* 3 4 5 6\n",
    "* -1 1 -10 5\n",
    "* **Sample Output 2**:\n",
    "* 20 32 \n",
    "* 10 30 18 -5 \n"
   ]
  },
  {
   "cell_type": "code",
   "execution_count": 2,
   "id": "10bfd11c",
   "metadata": {},
   "outputs": [
    {
     "name": "stdout",
     "output_type": "stream",
     "text": [
      "Enter the number of test cases : 3\n",
      "Enter the size(row, column) of input : 2 5\n",
      "Enter the 2-D Array/List : \n",
      "1 2 3 4 5\n",
      "5 4 3 2 1\n",
      "*********************\n",
      "15 15 \n",
      "*********************\n",
      "Enter the size(row, column) of input : 5 5\n",
      "Enter the 2-D Array/List : \n",
      "1 1 1 1 1\n",
      "2 2 2 2 2\n",
      "3 3 3 3 3\n",
      "4 4 4 4 4\n",
      "5 5 5 5 5\n",
      "*********************\n",
      "5 10 15 20 25 \n",
      "*********************\n",
      "Enter the size(row, column) of input : 5 3\n",
      "Enter the 2-D Array/List : \n",
      "1 2 3\n",
      "4 5 6\n",
      "7 8 9\n",
      "10 11 12\n",
      "13 14 15\n",
      "*********************\n",
      "6 15 24 33 42 \n",
      "*********************\n"
     ]
    }
   ],
   "source": [
    "t = int(input('Enter the number of test cases : '))\n",
    "for test in range(t):\n",
    "    size = [int(s) for s in input('Enter the size(row, column) of input : ').split()]\n",
    "    print('Enter the 2-D Array/List : ')\n",
    "    matrix = []\n",
    "    for x in range(size[0]):\n",
    "        matrix.append([int(k) for k in input().split()])\n",
    "    print('*********************')\n",
    "    for i in range(size[0]):\n",
    "        row_sum = 0\n",
    "        for j in range(size[1]):\n",
    "            row_sum += matrix[i][j]\n",
    "        print(row_sum, end = ' ')\n",
    "    print()\n",
    "    print('*********************')"
   ]
  },
  {
   "cell_type": "code",
   "execution_count": null,
   "id": "f8518523",
   "metadata": {},
   "outputs": [],
   "source": []
  }
 ],
 "metadata": {
  "kernelspec": {
   "display_name": "Python 3 (ipykernel)",
   "language": "python",
   "name": "python3"
  },
  "language_info": {
   "codemirror_mode": {
    "name": "ipython",
    "version": 3
   },
   "file_extension": ".py",
   "mimetype": "text/x-python",
   "name": "python",
   "nbconvert_exporter": "python",
   "pygments_lexer": "ipython3",
   "version": "3.11.5"
  }
 },
 "nbformat": 4,
 "nbformat_minor": 5
}
