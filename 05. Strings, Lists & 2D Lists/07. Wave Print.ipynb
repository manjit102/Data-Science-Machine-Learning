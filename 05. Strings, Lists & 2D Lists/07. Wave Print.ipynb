{
 "cells": [
  {
   "cell_type": "markdown",
   "id": "82a9841a",
   "metadata": {},
   "source": [
    "# <font color = 'red'>Wave Print</font>"
   ]
  },
  {
   "cell_type": "markdown",
   "id": "2eb126b9",
   "metadata": {},
   "source": [
    "For a given two-dimensional integer array/list of size (N x M), print the array/list in a sine wave order, i.e, print the first column top to bottom, next column bottom to top and so on.\n",
    "* **Input format** :\n",
    "* The first line contains an Integer 't' which denotes the number of test cases or queries to be run. Then the test cases follow.\n",
    "\n",
    "* First line of each test case or query contains two integer values, 'N' and 'M', separated by a single space. They represent the 'rows' and 'columns' respectively, for the two-dimensional array/list.\n",
    "\n",
    "* Second line onwards, the next 'N' lines or rows represent the ith row values.\n",
    "\n",
    "* Each of the ith row constitutes 'M' column values separated by a single space.\n",
    "* **Output format** :\n",
    "* For each test case, print the elements of the two-dimensional array/list in the sine wave order in a single line, separated by a single space.\n",
    "\n",
    "* Output for every test case will be printed in a seperate line.\n",
    "\n",
    "* **Constraints** :\n",
    "* 1 <= t <= 10^2\n",
    "* 0 <= N <= 10^3\n",
    "* 0 <= M <= 10^3\n",
    "* Time Limit: 1sec\n"
   ]
  },
  {
   "cell_type": "markdown",
   "id": "f366cb24",
   "metadata": {},
   "source": [
    "* **Sample Input 1**:\n",
    "* 1\n",
    "* 3 4 \n",
    "* 1  2  3  4 \n",
    "* 5  6  7  8 \n",
    "* 9 10 11 12\n",
    "* **Sample Output 1**:\n",
    "* 1 5 9 10 6 2 3 7 11 12 8 4\n",
    "* **Sample Input 2**:\n",
    "* 2\n",
    "* 5 3 \n",
    "* 1 2 3 \n",
    "* 4 5 6 \n",
    "* 7 8 9 \n",
    "* 10 11 12 \n",
    "* 13 14 15\n",
    "* 3 3\n",
    "* 10 20 30 \n",
    "* 40 50 60\n",
    "* 70 80 90\n",
    "* **Sample Output 2**:\n",
    "* 1 4 7 10 13 14 11 8 5 2 3 6 9 12 15 \n",
    "* 10 40 70 80 50 20 30 60 90 \n"
   ]
  },
  {
   "cell_type": "code",
   "execution_count": 9,
   "id": "68a8bad9",
   "metadata": {},
   "outputs": [
    {
     "name": "stdout",
     "output_type": "stream",
     "text": [
      "Enter the number of Test Cases : 2\n",
      "Enter the Size(row, column) of 2-D Lists/Arrays : 5 3\n",
      "Enter the 2-D Lists/Arrays : \n",
      "1 2 3\n",
      "4 5 6\n",
      "7 8 9\n",
      "10 11 12\n",
      "13 14 15\n",
      "---------------------------\n",
      "1 4 7 10 13 14 11 8 5 2 3 6 9 12 15 \n",
      "---------------------------\n",
      "Enter the Size(row, column) of 2-D Lists/Arrays : 3 3\n",
      "Enter the 2-D Lists/Arrays : \n",
      "10 20 30\n",
      "40 50 60\n",
      "70 80 90\n",
      "---------------------------\n",
      "10 40 70 80 50 20 30 60 90 \n",
      "---------------------------\n"
     ]
    }
   ],
   "source": [
    "t = int(input('Enter the number of Test Cases : '))\n",
    "\n",
    "for test in range(t):\n",
    "    size = [int(s) for s in input('Enter the Size(row, column) of 2-D Lists/Arrays : ').split()]\n",
    "    n = size[0]\n",
    "    m = size[1]\n",
    "    matrix = []\n",
    "    print('Enter the 2-D Lists/Arrays : ')\n",
    "    for row in range(n):\n",
    "        matrix.append([int(k) for k in input().split()])\n",
    "    print('---------------------------')\n",
    "    for j in range(m):\n",
    "        for i in range(n):\n",
    "            if j % 2 == 0:\n",
    "                print(matrix[i][j], end = ' ')\n",
    "            else:\n",
    "                print(matrix[(n-1-i)][j], end = ' ')\n",
    "    print()\n",
    "    print('---------------------------')\n"
   ]
  },
  {
   "cell_type": "code",
   "execution_count": null,
   "id": "c180e4ff",
   "metadata": {},
   "outputs": [],
   "source": []
  }
 ],
 "metadata": {
  "kernelspec": {
   "display_name": "Python 3 (ipykernel)",
   "language": "python",
   "name": "python3"
  },
  "language_info": {
   "codemirror_mode": {
    "name": "ipython",
    "version": 3
   },
   "file_extension": ".py",
   "mimetype": "text/x-python",
   "name": "python",
   "nbconvert_exporter": "python",
   "pygments_lexer": "ipython3",
   "version": "3.11.5"
  }
 },
 "nbformat": 4,
 "nbformat_minor": 5
}
