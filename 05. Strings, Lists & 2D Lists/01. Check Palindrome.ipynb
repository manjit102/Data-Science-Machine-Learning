{
 "cells": [
  {
   "cell_type": "markdown",
   "id": "7806afb5",
   "metadata": {},
   "source": [
    "# <font color = 'red'>Check Palindrome</font>"
   ]
  },
  {
   "cell_type": "markdown",
   "id": "b5033cc8",
   "metadata": {},
   "source": [
    "Given a string, determine if it is a palindrome, considering only alphanumeric characters.\n",
    "* **Palindrome** : A palindrome is a word, number, phrase, or other sequences of characters which read the same backwards and forwards.\n",
    "* Example : If the input string happens to be, \"malayalam\" then as we see that this word can be read the same as forward and backwards, it is said to be a valid palindrome.\n",
    "\n",
    "* The expected output for this example will print, 'true'.\n",
    "* From that being said, you are required to return a boolean value from the function that has been asked to implement.\n"
   ]
  },
  {
   "cell_type": "code",
   "execution_count": 5,
   "id": "0bbd851b",
   "metadata": {},
   "outputs": [
    {
     "name": "stdout",
     "output_type": "stream",
     "text": [
      "Enter the Word : 123malayalam321\n",
      "True\n"
     ]
    }
   ],
   "source": [
    "word = input('Enter the Word : ')\n",
    "\n",
    "word = word.lower()\n",
    "new_word = word[::-1]\n",
    "\n",
    "if word == new_word:\n",
    "    print(True)\n",
    "else:\n",
    "    print(False)"
   ]
  },
  {
   "cell_type": "code",
   "execution_count": null,
   "id": "77854e30",
   "metadata": {},
   "outputs": [],
   "source": []
  }
 ],
 "metadata": {
  "kernelspec": {
   "display_name": "Python 3 (ipykernel)",
   "language": "python",
   "name": "python3"
  },
  "language_info": {
   "codemirror_mode": {
    "name": "ipython",
    "version": 3
   },
   "file_extension": ".py",
   "mimetype": "text/x-python",
   "name": "python",
   "nbconvert_exporter": "python",
   "pygments_lexer": "ipython3",
   "version": "3.11.5"
  }
 },
 "nbformat": 4,
 "nbformat_minor": 5
}
