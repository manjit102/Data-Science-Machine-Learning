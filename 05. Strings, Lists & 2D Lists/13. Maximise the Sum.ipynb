{
 "cells": [
  {
   "cell_type": "markdown",
   "id": "2272c85a",
   "metadata": {},
   "source": [
    "# <font color = 'red'>Maximise the Sum</font>"
   ]
  },
  {
   "cell_type": "markdown",
   "id": "74ad0752",
   "metadata": {},
   "source": [
    "Given 2 sorted arrays (in increasing order), find a path through the intersections that produces maximum sum and return the maximum sum.\n",
    "* That is, we can switch from one array to another array only at common elements.\n",
    "* If no intersection element is present, we need to take sum of all elements from the array with greater sum.\n",
    "* **Input Format :**\n",
    "* Line 1 : An integer M i.e. size of first array\n",
    "* Line 2 : M integers which are elements of first array, separated by spaces\n",
    "* Line 3 : An integer N i.e. size of second array\n",
    "* Line 4 : N integers which are elements of second array, separated by spaces\n",
    "* **Output Format :**\n",
    "* Maximum sum value\n"
   ]
  },
  {
   "cell_type": "markdown",
   "id": "4909a06d",
   "metadata": {},
   "source": [
    "* **Sample Input :**\n",
    "* 6\n",
    "* 1 5 10 15 20 25\n",
    "* 5\n",
    "* 2 4 5 9 15\n",
    "* **Sample Output :**\n",
    "* 81\n",
    "* **Explanation :**\n",
    "* We start from array 2 and take sum till 5 (sum = 11). Then we'll switch to array at element 10 and take till 15. So sum = 36. Now, no elements left in array after 15, so we'll continue in array 1. Hence sum is 81\n"
   ]
  },
  {
   "cell_type": "code",
   "execution_count": 4,
   "id": "d4db6485",
   "metadata": {},
   "outputs": [
    {
     "name": "stdout",
     "output_type": "stream",
     "text": [
      "Enter the Size of First Array: 7\n",
      "Enter the Elements of First Array in Ascending Order : 1 2 3 4 5 6 7\n",
      "Enter the Size of Second Array: 5\n",
      "Enter the Elements of Second Array in Ascending Order : 8 9 10 11 12\n",
      "50\n"
     ]
    }
   ],
   "source": [
    "M = int(input('Enter the Size of First Array: '))\n",
    "arr1 = [int(s) for s in input('Enter the Elements of First Array in Ascending Order : ').split()]\n",
    "N = int(input('Enter the Size of Second Array: '))\n",
    "arr2 = [int(s) for s in input('Enter the Elements of Second Array in Ascending Order : ').split()]\n",
    "\n",
    "max_sum = 0\n",
    "sum_1 = 0\n",
    "index_1 = 0\n",
    "for i in range(M):\n",
    "    if arr1[i] in arr2:\n",
    "        index_2 = arr2.index(arr1[i])\n",
    "        sum_1 += arr1[i]\n",
    "        sum_2 = sum(arr2[index_1 : index_2 + 1])\n",
    "        index_1 = index_2+1\n",
    "        max_sum += max(sum_1, sum_2)\n",
    "        sum_1 = 0\n",
    "        sum_2 = 0\n",
    "    else:\n",
    "        sum_1 += arr1[i]\n",
    "\n",
    "sum_2 = sum(arr2[index_1 : ])\n",
    "max_sum += max(sum_1, sum_2)\n",
    "print(max_sum)"
   ]
  },
  {
   "cell_type": "code",
   "execution_count": null,
   "id": "6e8021a1",
   "metadata": {},
   "outputs": [],
   "source": []
  }
 ],
 "metadata": {
  "kernelspec": {
   "display_name": "Python 3 (ipykernel)",
   "language": "python",
   "name": "python3"
  },
  "language_info": {
   "codemirror_mode": {
    "name": "ipython",
    "version": 3
   },
   "file_extension": ".py",
   "mimetype": "text/x-python",
   "name": "python",
   "nbconvert_exporter": "python",
   "pygments_lexer": "ipython3",
   "version": "3.11.5"
  }
 },
 "nbformat": 4,
 "nbformat_minor": 5
}
