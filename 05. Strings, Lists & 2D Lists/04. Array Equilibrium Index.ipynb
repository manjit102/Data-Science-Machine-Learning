{
 "cells": [
  {
   "cell_type": "markdown",
   "id": "24826da9",
   "metadata": {},
   "source": [
    "# <font color = 'red'>Array Equilibrium Index</font>"
   ]
  },
  {
   "cell_type": "markdown",
   "id": "f4bb9c1c",
   "metadata": {},
   "source": [
    "For a given array/list(ARR) of size 'N,' find and return the 'Equilibrium Index' of the array/list.\n",
    "Equilibrium Index of an array/list is an index 'i' such that the sum of elements at indices [0 to (i - 1)] is equal to the sum of elements at indices [(i + 1) to (N-1)]. One thing to note here is, the item at the index 'i' is not included in either part.\n",
    "* If more than one equilibrium indices are present, then the index appearing first in left to right fashion should be returned. Negative one(-1) if no such index is present.\n",
    "* **Example** :Let's consider an array/list Arr = [2, 3, 10, -10, 4, 2, 9]  of size, N = 7.\n",
    "\n",
    "* There exist two equilibrium indices, one at 2 and another at 3.\n",
    "\n",
    "* At index 2, the sum of all the elements to the left, [2 + 3] is 5, and the elements to its right, [-10 + 4 + 2 + 9] is also 5. Hence index 2 is an equilibrium index according to the condition we want to achieve. Mind it that we haven't included the item at index 2, which is 10, to either of the parts.\n",
    "\n",
    "* Similarly, we can see at index 3, the elements to its left sum up to 15 and to the right, sum up to 15 either. \n",
    "\n",
    "* Since index 2 comes early in the order, left to right, the answer would be 2.\n"
   ]
  },
  {
   "cell_type": "code",
   "execution_count": 4,
   "id": "62928cbc",
   "metadata": {},
   "outputs": [
    {
     "name": "stdout",
     "output_type": "stream",
     "text": [
      "Enter the Array/List : 10 12 13 -10 15 8 12\n",
      "3\n"
     ]
    }
   ],
   "source": [
    "ARR = [int(i) for i in input('Enter the Array/List : ').split()]\n",
    "\n",
    "n = len(ARR)\n",
    "\n",
    "res = -1\n",
    "for i in range(n):\n",
    "    start_sum = 0\n",
    "    end_sum = 0\n",
    "    for j in range(i):\n",
    "        start_sum += ARR[j]\n",
    "    for j in range(i+1, n):\n",
    "        end_sum += ARR[j]\n",
    "    if start_sum == end_sum:\n",
    "        res = i\n",
    "        break\n",
    "print(res)"
   ]
  },
  {
   "cell_type": "code",
   "execution_count": null,
   "id": "ae8132e0",
   "metadata": {},
   "outputs": [],
   "source": []
  }
 ],
 "metadata": {
  "kernelspec": {
   "display_name": "Python 3 (ipykernel)",
   "language": "python",
   "name": "python3"
  },
  "language_info": {
   "codemirror_mode": {
    "name": "ipython",
    "version": 3
   },
   "file_extension": ".py",
   "mimetype": "text/x-python",
   "name": "python",
   "nbconvert_exporter": "python",
   "pygments_lexer": "ipython3",
   "version": "3.11.5"
  }
 },
 "nbformat": 4,
 "nbformat_minor": 5
}
