{
 "cells": [
  {
   "cell_type": "markdown",
   "id": "c0b96749",
   "metadata": {},
   "source": [
    "# <font color = 'red'>Arrange Numbers in the Array</font>"
   ]
  },
  {
   "cell_type": "markdown",
   "id": "a857bbfb",
   "metadata": {},
   "source": [
    "You have been given an empty array(ARR) and its size N. The only input taken from the user will be N and you need not worry about the array.\n",
    "* Your task is to populate the array using the integer values in the range 1 to N(both inclusive) in the order - 1,3,.......4,2.\n",
    "* **Note:**\n",
    "* You need not print the array. You only need to populate it.\n",
    "* **Input Format :**\n",
    "* The first line contains an Integer 't' which denotes the number of test cases or queries to be run. Then the test cases follow.\n",
    "\n",
    "* The first and the only line of each test case or query contains an integer 'N'.\n",
    "* **Output Format :**\n",
    "* For each test case, print the elements of the array/list separated by a single space.\n",
    "\n",
    "* Output for every test case will be printed in a separate line.\n"
   ]
  },
  {
   "cell_type": "code",
   "execution_count": 11,
   "id": "c346530b",
   "metadata": {},
   "outputs": [
    {
     "name": "stdout",
     "output_type": "stream",
     "text": [
      "Enter the number : 11\n",
      "1 3 5 7 9 11 10 8 6 4 2\n"
     ]
    }
   ],
   "source": [
    "n = int(input('Enter the number : '))\n",
    "\n",
    "l = []\n",
    "\n",
    "if n % 2 == 0:\n",
    "    h = n//2\n",
    "    for i in range(h):\n",
    "        l.append(2*(i+1) - 1)\n",
    "    for i in range(h):\n",
    "        l.append(n - (2*i))\n",
    "else:\n",
    "    h = (n+1)//2\n",
    "    for i in range(h):\n",
    "        l.append(2*(i+1) - 1)\n",
    "    for i in range(h-1):\n",
    "        l.append(n - 1 - (2*i))\n",
    "ans = ''\n",
    "for i in l:\n",
    "    ans += (str(i) + ' ')\n",
    "ans = ans[:-1]\n",
    "print(ans)"
   ]
  },
  {
   "cell_type": "code",
   "execution_count": null,
   "id": "4c8b0ff5",
   "metadata": {},
   "outputs": [],
   "source": []
  }
 ],
 "metadata": {
  "kernelspec": {
   "display_name": "Python 3 (ipykernel)",
   "language": "python",
   "name": "python3"
  },
  "language_info": {
   "codemirror_mode": {
    "name": "ipython",
    "version": 3
   },
   "file_extension": ".py",
   "mimetype": "text/x-python",
   "name": "python",
   "nbconvert_exporter": "python",
   "pygments_lexer": "ipython3",
   "version": "3.11.5"
  }
 },
 "nbformat": 4,
 "nbformat_minor": 5
}
