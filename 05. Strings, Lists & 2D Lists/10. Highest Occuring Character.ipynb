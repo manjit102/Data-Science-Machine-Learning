{
 "cells": [
  {
   "cell_type": "markdown",
   "id": "af09d1e7",
   "metadata": {},
   "source": [
    "# <font color = 'red'>Highest Ocurring Character</font>"
   ]
  },
  {
   "cell_type": "markdown",
   "id": "b13bc437",
   "metadata": {},
   "source": [
    "For a given a string(str), find and return the highest occurring character.\n",
    "* **Example:**\n",
    "* Input String: \"abcdeapapqarr\"\n",
    "* Expected Output: 'a'\n",
    "* Since 'a' has appeared four times in the string which happens to be the highest frequency character, the answer would be 'a'.\n",
    "* If there are two characters in the input string with the same frequency, return the character which comes first.\n",
    "* **Consider:**\n",
    "* Assume all the characters in the given string to be in lowercase always.\n"
   ]
  },
  {
   "cell_type": "code",
   "execution_count": 4,
   "id": "abaa15e9",
   "metadata": {},
   "outputs": [
    {
     "name": "stdout",
     "output_type": "stream",
     "text": [
      "Enter the string :abbccdddeee\n",
      "d\n"
     ]
    }
   ],
   "source": [
    "word = input('Enter the string :')\n",
    "\n",
    "ans = \"\"\n",
    "count = 0\n",
    "for i in word:\n",
    "    p = word.count(i)\n",
    "    if p > count:\n",
    "        count = p\n",
    "        ans = i\n",
    "print(ans)"
   ]
  },
  {
   "cell_type": "code",
   "execution_count": null,
   "id": "2ff3e3ae",
   "metadata": {},
   "outputs": [],
   "source": []
  }
 ],
 "metadata": {
  "kernelspec": {
   "display_name": "Python 3 (ipykernel)",
   "language": "python",
   "name": "python3"
  },
  "language_info": {
   "codemirror_mode": {
    "name": "ipython",
    "version": 3
   },
   "file_extension": ".py",
   "mimetype": "text/x-python",
   "name": "python",
   "nbconvert_exporter": "python",
   "pygments_lexer": "ipython3",
   "version": "3.11.5"
  }
 },
 "nbformat": 4,
 "nbformat_minor": 5
}
