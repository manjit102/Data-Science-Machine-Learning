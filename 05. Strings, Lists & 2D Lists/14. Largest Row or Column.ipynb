{
 "cells": [
  {
   "cell_type": "markdown",
   "id": "424ec3b2",
   "metadata": {},
   "source": [
    "# <font color = 'Red'>Largest Row or Column</font>"
   ]
  },
  {
   "cell_type": "markdown",
   "id": "4dee9a4b",
   "metadata": {},
   "source": [
    "For a given two-dimensional integer array/list of size (N x M), you need to find out which row or column has the largest sum(sum of all the elements in a row/column) amongst all the rows and columns.\n",
    "* **Note :**\n",
    "* If there are more than one rows/columns with maximum sum, consider the row/column that comes first. And if ith row and jth column has the same largest sum, consider the ith row as answer.\n",
    "* **Input Format :**\n",
    "* The first line contains an Integer 't' which denotes the number of test cases or queries to be run. Then the test cases follow.\n",
    "\n",
    "* First line of each test case or query contains two integer values, 'N' and 'M', separated by a single space. They represent the 'rows' and 'columns' respectively, for the two-dimensional array/list.\n",
    "\n",
    "* Second line onwards, the next 'N' lines or rows represent the ith row values.\n",
    "\n",
    "* Each of the ith row constitutes 'M' column values separated by a single space.\n",
    "* **Output Format :**\n",
    "* For each test case, If row sum is maximum, then print: \"row\" <row_index> <row_sum>\n",
    "* OR\n",
    "* If column sum is maximum, then print: \"column\" <col_index> <col_sum>\n",
    "* It will be printed in a single line separated by a single space between each piece of information.\n",
    "\n",
    "* Output for every test case will be printed in a seperate line.\n",
    "* **Consider :**\n",
    "* If there doesn't exist a sum at all then print \"row 0 -2147483648\", where -2147483648 or -2^31 is the smallest value for the range of Integer.\n"
   ]
  },
  {
   "cell_type": "markdown",
   "id": "c0dff310",
   "metadata": {},
   "source": [
    "* **Sample Input 1 :**\n",
    "* 1\n",
    "* 2 2 \n",
    "* 1 1 \n",
    "* 1 1\n",
    "* **Sample Output 1 :**\n",
    "* row 0 2\n",
    "* **Sample Input 2 :**\n",
    "* 2\n",
    "* 3 3\n",
    "* 3 6 9 \n",
    "* 1 4 7 \n",
    "* 2 8 9\n",
    "* 4 2\n",
    "* 1 2\n",
    "* 90 100\n",
    "* 3 40\n",
    "* -10 200\n",
    "* **Sample Output 2 :**\n",
    "* column 2 25\n",
    "* column 1 342\n"
   ]
  },
  {
   "cell_type": "code",
   "execution_count": 3,
   "id": "d04ffd90",
   "metadata": {},
   "outputs": [
    {
     "name": "stdout",
     "output_type": "stream",
     "text": [
      "Enter the number of test cases : 2\n",
      "Enter the size of 2-D Array/Lists (row, column) : 3 3\n",
      "Enter the elements of the 2-D Array/Lists : \n",
      "3 6 9\n",
      "1 4 7\n",
      "2 8 9\n",
      "column 2 25\n",
      "Enter the size of 2-D Array/Lists (row, column) : 4 2\n",
      "Enter the elements of the 2-D Array/Lists : \n",
      "1 2\n",
      "90 100\n",
      "3 40\n",
      "-10 200\n",
      "column 1 342\n"
     ]
    }
   ],
   "source": [
    "test = int(input('Enter the number of test cases : '))\n",
    "for t in range(test):\n",
    "    size = [int(s) for s in input('Enter the size of 2-D Array/Lists (row, column) : ').split()]\n",
    "    m = size[0]\n",
    "    n = size[1]\n",
    "    matrix = []\n",
    "    print('Enter the elements of the 2-D Array/Lists : ')\n",
    "    for row in range(m):\n",
    "        matrix.append([int(s) for s in input().split()])\n",
    "        \n",
    "    # Calculating the row sum and column sum    \n",
    "    row_sum = []\n",
    "    col_sum = []\n",
    "    for j in range(n):\n",
    "        total = 0\n",
    "        for i in range(m):\n",
    "            total += matrix[i][j]\n",
    "        col_sum.append(total)\n",
    "    for i in range(m):\n",
    "        row_sum.append(sum(matrix[i]))\n",
    "    \n",
    "    ans = max(row_sum + col_sum)\n",
    "    \n",
    "    row_index = -1\n",
    "    for i in range(len(row_sum)):\n",
    "        if row_sum[i] == ans:\n",
    "            row_index = i\n",
    "            break\n",
    "    col_index = -1\n",
    "    for i in range(len(col_sum)):\n",
    "        if col_sum[i] == ans:\n",
    "            col_index = i\n",
    "            break\n",
    "    \n",
    "    if row_index == -1:\n",
    "        print('column',col_index,ans, sep = ' ')\n",
    "    elif col_index == -1:\n",
    "        print('row',row_index,ans, sep = ' ')\n",
    "    elif col_index < row_index:\n",
    "        print('column',col_index,ans, sep = ' ')\n",
    "    elif row_index < col_index:\n",
    "        print('row',row_index,ans, sep = ' ')\n",
    "    else:\n",
    "        print('row',row_index,ans, sep = ' ')"
   ]
  },
  {
   "cell_type": "code",
   "execution_count": null,
   "id": "88772800",
   "metadata": {},
   "outputs": [],
   "source": []
  }
 ],
 "metadata": {
  "kernelspec": {
   "display_name": "Python 3 (ipykernel)",
   "language": "python",
   "name": "python3"
  },
  "language_info": {
   "codemirror_mode": {
    "name": "ipython",
    "version": 3
   },
   "file_extension": ".py",
   "mimetype": "text/x-python",
   "name": "python",
   "nbconvert_exporter": "python",
   "pygments_lexer": "ipython3",
   "version": "3.11.5"
  }
 },
 "nbformat": 4,
 "nbformat_minor": 5
}
