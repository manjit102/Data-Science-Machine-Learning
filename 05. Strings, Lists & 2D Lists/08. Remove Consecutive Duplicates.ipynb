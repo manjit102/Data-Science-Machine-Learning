{
 "cells": [
  {
   "cell_type": "markdown",
   "id": "8f5ec740",
   "metadata": {},
   "source": [
    "# <font color ='red'>Remove Consecutive Duplicates</font>"
   ]
  },
  {
   "cell_type": "markdown",
   "id": "a13d7cbe",
   "metadata": {},
   "source": [
    "For a given string(str), remove all the consecutive duplicate characters.\n",
    "* **Example** :\n",
    "* Input String: \"aaaa\"\n",
    "* Expected Output: \"a\"\n",
    "\n",
    "* Input String: \"aabbbcc\"\n",
    "* Expected Output: \"abc\""
   ]
  },
  {
   "cell_type": "code",
   "execution_count": 3,
   "id": "caabb4a6",
   "metadata": {},
   "outputs": [
    {
     "name": "stdout",
     "output_type": "stream",
     "text": [
      "Enter the String : jjaaii mmaattaa ddii\n",
      "jai mata di\n"
     ]
    }
   ],
   "source": [
    "word = input('Enter the String : ')\n",
    "\n",
    "new_word = \"\"\n",
    "n = len(word)\n",
    "for i in range(n-1):\n",
    "    if word[i] != word[i+1]:\n",
    "        new_word += word[i]\n",
    "if word[-1] == word[-2]:\n",
    "    new_word += word[-1]\n",
    "print(new_word)"
   ]
  },
  {
   "cell_type": "code",
   "execution_count": null,
   "id": "a1c1353d",
   "metadata": {},
   "outputs": [],
   "source": []
  }
 ],
 "metadata": {
  "kernelspec": {
   "display_name": "Python 3 (ipykernel)",
   "language": "python",
   "name": "python3"
  },
  "language_info": {
   "codemirror_mode": {
    "name": "ipython",
    "version": 3
   },
   "file_extension": ".py",
   "mimetype": "text/x-python",
   "name": "python",
   "nbconvert_exporter": "python",
   "pygments_lexer": "ipython3",
   "version": "3.11.5"
  }
 },
 "nbformat": 4,
 "nbformat_minor": 5
}
