{
 "cells": [
  {
   "cell_type": "markdown",
   "id": "623a1f3e",
   "metadata": {},
   "source": [
    "# <font color = 'red'>Print All Substrings</font>"
   ]
  },
  {
   "cell_type": "markdown",
   "id": "8c2e1e7f",
   "metadata": {},
   "source": [
    "For a given input string(str), write a function to print all the possible substrings.\n",
    "* **Substring** : A substring is a contiguous sequence of characters within a string. \n",
    "* **Example** : \"cod\" is a substring of \"coding\". Whereas, \"cdng\" is not as the characters taken are not contiguous\n"
   ]
  },
  {
   "cell_type": "code",
   "execution_count": 4,
   "id": "2e6109af",
   "metadata": {},
   "outputs": [
    {
     "name": "stdout",
     "output_type": "stream",
     "text": [
      "Enter the Word : JAIMATADI\n",
      "J\n",
      "JA\n",
      "JAI\n",
      "JAIM\n",
      "JAIMA\n",
      "JAIMAT\n",
      "JAIMATA\n",
      "JAIMATAD\n",
      "JAIMATADI\n",
      "A\n",
      "AI\n",
      "AIM\n",
      "AIMA\n",
      "AIMAT\n",
      "AIMATA\n",
      "AIMATAD\n",
      "AIMATADI\n",
      "I\n",
      "IM\n",
      "IMA\n",
      "IMAT\n",
      "IMATA\n",
      "IMATAD\n",
      "IMATADI\n",
      "M\n",
      "MA\n",
      "MAT\n",
      "MATA\n",
      "MATAD\n",
      "MATADI\n",
      "A\n",
      "AT\n",
      "ATA\n",
      "ATAD\n",
      "ATADI\n",
      "T\n",
      "TA\n",
      "TAD\n",
      "TADI\n",
      "A\n",
      "AD\n",
      "ADI\n",
      "D\n",
      "DI\n",
      "I\n"
     ]
    }
   ],
   "source": [
    "word = input('Enter the Word : ')\n",
    "\n",
    "n = len(word)\n",
    "for i in range(n):\n",
    "    for j in range(i,n):\n",
    "        print(word[i:j+1])"
   ]
  },
  {
   "cell_type": "code",
   "execution_count": null,
   "id": "abe82555",
   "metadata": {},
   "outputs": [],
   "source": []
  }
 ],
 "metadata": {
  "kernelspec": {
   "display_name": "Python 3 (ipykernel)",
   "language": "python",
   "name": "python3"
  },
  "language_info": {
   "codemirror_mode": {
    "name": "ipython",
    "version": 3
   },
   "file_extension": ".py",
   "mimetype": "text/x-python",
   "name": "python",
   "nbconvert_exporter": "python",
   "pygments_lexer": "ipython3",
   "version": "3.11.5"
  }
 },
 "nbformat": 4,
 "nbformat_minor": 5
}
