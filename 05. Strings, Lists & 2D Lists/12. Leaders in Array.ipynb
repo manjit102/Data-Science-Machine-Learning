{
 "cells": [
  {
   "cell_type": "markdown",
   "id": "9b116baf",
   "metadata": {},
   "source": [
    "# <font color = 'red'>Leaders in Array</font>"
   ]
  },
  {
   "cell_type": "markdown",
   "id": "9546d5e7",
   "metadata": {},
   "source": [
    "Given an integer array A of size n. Find and print all the leaders present in the input array. An array element A[i] is called Leader, if all the elements following it (i.e. present at its right) are less than or equal to A[i].\n",
    "* Print all the leader elements separated by space and in the same order they are present in the input array.\n",
    "* **Input Format :**\n",
    "* Line 1 : Integer n, size of array\n",
    "* Line 2 : Array A elements (separated by space)\n",
    "* **Output Format :**\n",
    "* leaders of array (separated by space)\n"
   ]
  },
  {
   "cell_type": "code",
   "execution_count": 4,
   "id": "dfcb97ec",
   "metadata": {},
   "outputs": [
    {
     "name": "stdout",
     "output_type": "stream",
     "text": [
      "Enter the Array : 13 17 5 4 6\n",
      "17 6\n"
     ]
    }
   ],
   "source": [
    "A = [int(s) for s in input('Enter the Array : ').split()]\n",
    "\n",
    "n = len(A)\n",
    "l = ''\n",
    "for i in range(n-1):\n",
    "    flag = True\n",
    "    for j in range(i+1, n):\n",
    "        if A[i] < A[j]:\n",
    "            flag = False\n",
    "            break\n",
    "    if flag:\n",
    "        l += (str(A[i]) + ' ')\n",
    "l += str(A[-1])\n",
    "print(l)"
   ]
  },
  {
   "cell_type": "code",
   "execution_count": null,
   "id": "ab7d5d02",
   "metadata": {},
   "outputs": [],
   "source": []
  }
 ],
 "metadata": {
  "kernelspec": {
   "display_name": "Python 3 (ipykernel)",
   "language": "python",
   "name": "python3"
  },
  "language_info": {
   "codemirror_mode": {
    "name": "ipython",
    "version": 3
   },
   "file_extension": ".py",
   "mimetype": "text/x-python",
   "name": "python",
   "nbconvert_exporter": "python",
   "pygments_lexer": "ipython3",
   "version": "3.11.5"
  }
 },
 "nbformat": 4,
 "nbformat_minor": 5
}
