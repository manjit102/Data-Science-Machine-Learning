{
 "cells": [
  {
   "cell_type": "markdown",
   "id": "9d6ca13a",
   "metadata": {},
   "source": [
    "# <font color ='red'>Reverse Each Word</font>"
   ]
  },
  {
   "cell_type": "markdown",
   "id": "c6cc91fb",
   "metadata": {},
   "source": [
    "Aadil has been provided with a sentence in the form of a string as a function parameter. The task is to implement a function so as to print the sentence such that each word in the sentence is reversed.\n",
    "* **Example** :\n",
    "* Input Sentence: \"Hello, I am Aadil!\"\n",
    "* The expected output will print, \",olleH I ma !lidaA\".\n"
   ]
  },
  {
   "cell_type": "code",
   "execution_count": 2,
   "id": "6c87cdb2",
   "metadata": {},
   "outputs": [
    {
     "name": "stdout",
     "output_type": "stream",
     "text": [
      "Enter the sentence : JAI MATA DI\n",
      "IAJ ATAM ID "
     ]
    }
   ],
   "source": [
    "sentence = input('Enter the sentence : ')\n",
    "\n",
    "words = sentence.split()\n",
    "for word in words:\n",
    "    print(word[::-1], end = ' ')"
   ]
  },
  {
   "cell_type": "code",
   "execution_count": null,
   "id": "9757f9df",
   "metadata": {},
   "outputs": [],
   "source": []
  }
 ],
 "metadata": {
  "kernelspec": {
   "display_name": "Python 3 (ipykernel)",
   "language": "python",
   "name": "python3"
  },
  "language_info": {
   "codemirror_mode": {
    "name": "ipython",
    "version": 3
   },
   "file_extension": ".py",
   "mimetype": "text/x-python",
   "name": "python",
   "nbconvert_exporter": "python",
   "pygments_lexer": "ipython3",
   "version": "3.11.5"
  }
 },
 "nbformat": 4,
 "nbformat_minor": 5
}
