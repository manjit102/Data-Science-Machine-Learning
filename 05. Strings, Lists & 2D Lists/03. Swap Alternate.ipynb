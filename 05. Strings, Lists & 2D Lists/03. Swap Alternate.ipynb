{
 "cells": [
  {
   "cell_type": "markdown",
   "id": "5606581c",
   "metadata": {},
   "source": [
    "# <font color = 'red'>Swap Alternate</font>"
   ]
  },
  {
   "cell_type": "markdown",
   "id": "29e2c3f0",
   "metadata": {},
   "source": [
    "You have been given an array/list(ARR) of size N. You need to swap every pair of alternate elements in the array/list."
   ]
  },
  {
   "cell_type": "code",
   "execution_count": 4,
   "id": "da914a89",
   "metadata": {},
   "outputs": [
    {
     "name": "stdout",
     "output_type": "stream",
     "text": [
      "Enter the Word : 21436587\n",
      "12345678\n"
     ]
    }
   ],
   "source": [
    "word = input('Enter the Word : ')\n",
    "\n",
    "n = len(word)\n",
    "new_word = \"\"\n",
    "for i in range(0, n, 2):\n",
    "    if i+1 == n:\n",
    "        new_word = new_word + word[i]\n",
    "    else:\n",
    "        new_word = new_word + word[i+1] + word[i]\n",
    "print(new_word)"
   ]
  },
  {
   "cell_type": "code",
   "execution_count": null,
   "id": "87607ea5",
   "metadata": {},
   "outputs": [],
   "source": []
  }
 ],
 "metadata": {
  "kernelspec": {
   "display_name": "Python 3 (ipykernel)",
   "language": "python",
   "name": "python3"
  },
  "language_info": {
   "codemirror_mode": {
    "name": "ipython",
    "version": 3
   },
   "file_extension": ".py",
   "mimetype": "text/x-python",
   "name": "python",
   "nbconvert_exporter": "python",
   "pygments_lexer": "ipython3",
   "version": "3.11.5"
  }
 },
 "nbformat": 4,
 "nbformat_minor": 5
}
