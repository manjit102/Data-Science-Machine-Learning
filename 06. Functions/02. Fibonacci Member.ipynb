{
 "cells": [
  {
   "cell_type": "markdown",
   "id": "3a474675",
   "metadata": {},
   "source": [
    "# <font color = 'red'>Fibonacci Member</font>"
   ]
  },
  {
   "cell_type": "markdown",
   "id": "0546cab3",
   "metadata": {},
   "source": [
    "Given a number N, figure out if it is a member of fibonacci series or not. Return true if the number is member of fibonacci series else false.\n",
    "* Fibonacci Series is defined by the recurrence\n",
    "* F(n) = F(n-1) + F(n-2)\n",
    "* where F(0) = 0 and F(1) = 1\n",
    "* **Input Format :**\n",
    "* Integer N\n",
    "* **Output Format :**\n",
    "* true or false\n"
   ]
  },
  {
   "cell_type": "markdown",
   "id": "c8878d0f",
   "metadata": {},
   "source": [
    "* **Sample Input 1 :**\n",
    "* 5\n",
    "* **Sample Output 1 :**\n",
    "* true\n",
    "* **Sample Input 2 :**\n",
    "* 14\n",
    "* **Sample Output 2 :**\n",
    "* false    \n"
   ]
  },
  {
   "cell_type": "code",
   "execution_count": 21,
   "id": "b2737224",
   "metadata": {},
   "outputs": [
    {
     "name": "stdout",
     "output_type": "stream",
     "text": [
      "Enter the Number : 33\n",
      "False\n"
     ]
    }
   ],
   "source": [
    "def isFibonacci(n):\n",
    "    if n == 1 or n == 2:\n",
    "        return True\n",
    "    else:\n",
    "        num1 = 1\n",
    "        num2 = 1\n",
    "        num3 = 2\n",
    "        while num3 < n:\n",
    "            num1 = num2\n",
    "            num2 = num3\n",
    "            num3 = num1 + num2\n",
    "        if num3 == n:\n",
    "            return True\n",
    "        else:\n",
    "            return False\n",
    "num = int(input('Enter the Number : '))\n",
    "print(isFibonacci(num))"
   ]
  },
  {
   "cell_type": "code",
   "execution_count": null,
   "id": "7cc28d9f",
   "metadata": {},
   "outputs": [],
   "source": []
  },
  {
   "cell_type": "code",
   "execution_count": null,
   "id": "69476521",
   "metadata": {},
   "outputs": [],
   "source": []
  }
 ],
 "metadata": {
  "kernelspec": {
   "display_name": "Python 3 (ipykernel)",
   "language": "python",
   "name": "python3"
  },
  "language_info": {
   "codemirror_mode": {
    "name": "ipython",
    "version": 3
   },
   "file_extension": ".py",
   "mimetype": "text/x-python",
   "name": "python",
   "nbconvert_exporter": "python",
   "pygments_lexer": "ipython3",
   "version": "3.11.5"
  }
 },
 "nbformat": 4,
 "nbformat_minor": 5
}
