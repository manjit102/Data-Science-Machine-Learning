{
 "cells": [
  {
   "cell_type": "markdown",
   "id": "ac936219",
   "metadata": {},
   "source": [
    "# <font color = 'red'>Fahrenheit To Celsius</font>"
   ]
  },
  {
   "cell_type": "markdown",
   "id": "d54a4db2",
   "metadata": {},
   "source": [
    "Given three values - start Fahrenheit values (S), End Fahrenheit value (E) and Step size (W), you need to convert all Fahrenheit values from Start to End at gap of W, into their corresponding Celsius values and print the table.\n",
    "* **Input Format :**\n",
    "* 3 Integers - S, E and W respectively\n",
    "* **Output Format :**\n",
    "* Fahrenheit to Celsius conversion table. One line for every Fahrenheit and Celsius Fahrenheit value. Fahrenheit value and its corresponding Celsius value should be separate by tab (\"\\t\")"
   ]
  },
  {
   "cell_type": "code",
   "execution_count": 2,
   "id": "998b1c72",
   "metadata": {},
   "outputs": [
    {
     "name": "stdout",
     "output_type": "stream",
     "text": [
      "Enter the Start Fahrenheit value : -40\n",
      "Enter the End Fahrenheit value : 110\n",
      "Enter the Step size value : 10\n",
      "-40\t-40\n",
      "-30\t-34\n",
      "-20\t-28\n",
      "-10\t-23\n",
      "0\t-17\n",
      "10\t-12\n",
      "20\t-6\n",
      "30\t-1\n",
      "40\t4\n",
      "50\t10\n",
      "60\t15\n",
      "70\t21\n",
      "80\t26\n",
      "90\t32\n",
      "100\t37\n",
      "110\t43\n"
     ]
    }
   ],
   "source": [
    "s = int(input('Enter the Start Fahrenheit value : '))\n",
    "e = int(input('Enter the End Fahrenheit value : '))\n",
    "w = int(input('Enter the Step size value : '))\n",
    "\n",
    "def F_to_C(n):\n",
    "    return int((n-32)*5/9)\n",
    "\n",
    "for i in range(s,e+1,w):\n",
    "    print(i, F_to_C(i), sep = '\\t')"
   ]
  },
  {
   "cell_type": "code",
   "execution_count": null,
   "id": "88b8037f",
   "metadata": {},
   "outputs": [],
   "source": []
  }
 ],
 "metadata": {
  "kernelspec": {
   "display_name": "Python 3 (ipykernel)",
   "language": "python",
   "name": "python3"
  },
  "language_info": {
   "codemirror_mode": {
    "name": "ipython",
    "version": 3
   },
   "file_extension": ".py",
   "mimetype": "text/x-python",
   "name": "python",
   "nbconvert_exporter": "python",
   "pygments_lexer": "ipython3",
   "version": "3.11.5"
  }
 },
 "nbformat": 4,
 "nbformat_minor": 5
}
