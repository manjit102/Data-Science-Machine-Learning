{
 "cells": [
  {
   "cell_type": "markdown",
   "id": "d65aadc7",
   "metadata": {},
   "source": [
    "# <font color = 'red'>Binary to Decimal</font>"
   ]
  },
  {
   "cell_type": "markdown",
   "id": "56f99698",
   "metadata": {},
   "source": [
    "Given a binary number as an integer N, convert it into decimal and print."
   ]
  },
  {
   "cell_type": "code",
   "execution_count": 5,
   "id": "72db115d",
   "metadata": {},
   "outputs": [
    {
     "name": "stdout",
     "output_type": "stream",
     "text": [
      "Enter the Binary Number : 111\n",
      "7\n"
     ]
    }
   ],
   "source": [
    "n = int(input('Enter the Binary Number : '))\n",
    "\n",
    "x = n\n",
    "i = 0\n",
    "num = 0\n",
    "while x != 0:\n",
    "    r = x % 10\n",
    "    x = x // 10\n",
    "    num = num + r * (2 ** i)\n",
    "    i = i + 1\n",
    "print(num)"
   ]
  },
  {
   "cell_type": "code",
   "execution_count": null,
   "id": "b298450e",
   "metadata": {},
   "outputs": [],
   "source": []
  }
 ],
 "metadata": {
  "kernelspec": {
   "display_name": "Python 3 (ipykernel)",
   "language": "python",
   "name": "python3"
  },
  "language_info": {
   "codemirror_mode": {
    "name": "ipython",
    "version": 3
   },
   "file_extension": ".py",
   "mimetype": "text/x-python",
   "name": "python",
   "nbconvert_exporter": "python",
   "pygments_lexer": "ipython3",
   "version": "3.11.5"
  }
 },
 "nbformat": 4,
 "nbformat_minor": 5
}
