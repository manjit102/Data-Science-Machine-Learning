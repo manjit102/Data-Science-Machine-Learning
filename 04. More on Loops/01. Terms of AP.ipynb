{
 "cells": [
  {
   "cell_type": "markdown",
   "id": "635561f8",
   "metadata": {},
   "source": [
    "# <font color = 'red'>Terms of AP</font>"
   ]
  },
  {
   "cell_type": "markdown",
   "id": "b90e7bde",
   "metadata": {},
   "source": [
    "Write a program to print first x terms of the series 3N + 2 which are not multiples of 4."
   ]
  },
  {
   "cell_type": "code",
   "execution_count": 1,
   "id": "91f4ab95",
   "metadata": {},
   "outputs": [
    {
     "name": "stdout",
     "output_type": "stream",
     "text": [
      "Enter the number of terms : 9\n",
      "5 11 14 17 23 26 29 35 38 "
     ]
    }
   ],
   "source": [
    "n = int(input('Enter the number of terms : '))\n",
    "\n",
    "count = 1\n",
    "i = 1\n",
    "while True:\n",
    "    p = 3 * i + 2\n",
    "    if p % 4 == 0:\n",
    "        i = i + 1\n",
    "        continue\n",
    "    if count <= n:\n",
    "        print(p, end = ' ')\n",
    "        count = count + 1\n",
    "    else:\n",
    "        break\n",
    "    i = i + 1"
   ]
  },
  {
   "cell_type": "code",
   "execution_count": null,
   "id": "97a2385b",
   "metadata": {},
   "outputs": [],
   "source": []
  }
 ],
 "metadata": {
  "kernelspec": {
   "display_name": "Python 3 (ipykernel)",
   "language": "python",
   "name": "python3"
  },
  "language_info": {
   "codemirror_mode": {
    "name": "ipython",
    "version": 3
   },
   "file_extension": ".py",
   "mimetype": "text/x-python",
   "name": "python",
   "nbconvert_exporter": "python",
   "pygments_lexer": "ipython3",
   "version": "3.11.5"
  }
 },
 "nbformat": 4,
 "nbformat_minor": 5
}
