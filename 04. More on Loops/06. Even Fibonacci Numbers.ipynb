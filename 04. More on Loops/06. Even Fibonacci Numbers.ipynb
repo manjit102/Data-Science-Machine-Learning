{
 "cells": [
  {
   "cell_type": "markdown",
   "id": "65856dd1",
   "metadata": {},
   "source": [
    "# <font color = 'red'>Even Fibonacci Numbers</font>"
   ]
  },
  {
   "cell_type": "markdown",
   "id": "74936beb",
   "metadata": {},
   "source": [
    "Given a number N find the sum of all the even valued terms in the fibonacci sequence less than or equal to N. Try generating only even fibonacci numbers instead of iterating over all Fibonacci numbers."
   ]
  },
  {
   "cell_type": "code",
   "execution_count": 5,
   "id": "15d0516b",
   "metadata": {},
   "outputs": [
    {
     "name": "stdout",
     "output_type": "stream",
     "text": [
      "Enter the Number : 400\n",
      "188\n"
     ]
    }
   ],
   "source": [
    "n = int(input('Enter the Number : '))\n",
    "\n",
    "res = 0\n",
    "num1 = 1\n",
    "num2 = 1\n",
    "num3 = num1 + num2\n",
    "if n <= 0:\n",
    "    res = -1\n",
    "elif n == 1 or n == 2:\n",
    "    res = 0\n",
    "else:\n",
    "    while num3 <= n:\n",
    "        if num3 % 2 == 0:\n",
    "            res = res + num3\n",
    "        num1 = num2\n",
    "        num2 = num3\n",
    "        num3 = num2 + num1\n",
    "print(res) "
   ]
  },
  {
   "cell_type": "code",
   "execution_count": null,
   "id": "76b39a01",
   "metadata": {},
   "outputs": [],
   "source": []
  }
 ],
 "metadata": {
  "kernelspec": {
   "display_name": "Python 3 (ipykernel)",
   "language": "python",
   "name": "python3"
  },
  "language_info": {
   "codemirror_mode": {
    "name": "ipython",
    "version": 3
   },
   "file_extension": ".py",
   "mimetype": "text/x-python",
   "name": "python",
   "nbconvert_exporter": "python",
   "pygments_lexer": "ipython3",
   "version": "3.11.5"
  }
 },
 "nbformat": 4,
 "nbformat_minor": 5
}
