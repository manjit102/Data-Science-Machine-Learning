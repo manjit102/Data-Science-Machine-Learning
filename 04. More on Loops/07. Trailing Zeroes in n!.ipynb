{
 "cells": [
  {
   "cell_type": "markdown",
   "id": "374c801b",
   "metadata": {},
   "source": [
    "# <font color = 'red'>Trailing Zeroes in n!</font>"
   ]
  },
  {
   "cell_type": "markdown",
   "id": "aad09f37",
   "metadata": {},
   "source": [
    "Find and return number of trailing 0s in n factorial without calculating n factorial."
   ]
  },
  {
   "cell_type": "code",
   "execution_count": 3,
   "id": "fca5c48b",
   "metadata": {},
   "outputs": [
    {
     "name": "stdout",
     "output_type": "stream",
     "text": [
      "Enter the number : 100\n",
      "24\n"
     ]
    }
   ],
   "source": [
    "n = int(input('Enter the number : '))\n",
    "\n",
    "count = 0\n",
    "for i in range(5, n+1, 5):\n",
    "    while i % 5 == 0:\n",
    "        count = count + 1\n",
    "        i = i // 5\n",
    "print(count)"
   ]
  },
  {
   "cell_type": "code",
   "execution_count": null,
   "id": "1f9c7844",
   "metadata": {},
   "outputs": [],
   "source": []
  }
 ],
 "metadata": {
  "kernelspec": {
   "display_name": "Python 3 (ipykernel)",
   "language": "python",
   "name": "python3"
  },
  "language_info": {
   "codemirror_mode": {
    "name": "ipython",
    "version": 3
   },
   "file_extension": ".py",
   "mimetype": "text/x-python",
   "name": "python",
   "nbconvert_exporter": "python",
   "pygments_lexer": "ipython3",
   "version": "3.11.5"
  }
 },
 "nbformat": 4,
 "nbformat_minor": 5
}
