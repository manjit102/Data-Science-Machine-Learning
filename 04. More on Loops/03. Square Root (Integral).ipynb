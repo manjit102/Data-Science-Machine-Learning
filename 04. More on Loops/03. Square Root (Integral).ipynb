{
 "cells": [
  {
   "cell_type": "markdown",
   "id": "f52fbc71",
   "metadata": {},
   "source": [
    "# <font color = 'red'>Square Root (Integral)</font>"
   ]
  },
  {
   "cell_type": "markdown",
   "id": "894c8581",
   "metadata": {},
   "source": [
    "Given a number N, find its square root. You need to find and print only the integral part of square root of N.\n",
    "* For eg. if number given is 18, answer is 4."
   ]
  },
  {
   "cell_type": "code",
   "execution_count": 10,
   "id": "11716ebf",
   "metadata": {},
   "outputs": [
    {
     "name": "stdout",
     "output_type": "stream",
     "text": [
      "Enter the number : 51\n",
      "7\n"
     ]
    }
   ],
   "source": [
    "n = int(input('Enter the number : '))\n",
    "\n",
    "i = 1\n",
    "while True:\n",
    "    p = i*i\n",
    "    if p > n:\n",
    "        print(i-1)\n",
    "        break\n",
    "    i = i+1"
   ]
  },
  {
   "cell_type": "code",
   "execution_count": null,
   "id": "be607797",
   "metadata": {},
   "outputs": [],
   "source": []
  }
 ],
 "metadata": {
  "kernelspec": {
   "display_name": "Python 3 (ipykernel)",
   "language": "python",
   "name": "python3"
  },
  "language_info": {
   "codemirror_mode": {
    "name": "ipython",
    "version": 3
   },
   "file_extension": ".py",
   "mimetype": "text/x-python",
   "name": "python",
   "nbconvert_exporter": "python",
   "pygments_lexer": "ipython3",
   "version": "3.11.5"
  }
 },
 "nbformat": 4,
 "nbformat_minor": 5
}
