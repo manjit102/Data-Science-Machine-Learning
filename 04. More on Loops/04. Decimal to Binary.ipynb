{
 "cells": [
  {
   "cell_type": "markdown",
   "id": "58606026",
   "metadata": {},
   "source": [
    "# <font color = 'red'>Decimal to Binary</font>"
   ]
  },
  {
   "cell_type": "markdown",
   "id": "bc221954",
   "metadata": {},
   "source": [
    "Given a decimal number (integer N), convert it into binary and print.\n",
    "* The binary number should be in the form of an integer.\n",
    "* Note : The given input number could be large, so the corresponding binary number can exceed the integer range. So you may want to take the answer as long for CPP and Java.\n"
   ]
  },
  {
   "cell_type": "code",
   "execution_count": 7,
   "id": "d045f76e",
   "metadata": {},
   "outputs": [
    {
     "name": "stdout",
     "output_type": "stream",
     "text": [
      "Enter the number : 126\n",
      "1111110\n"
     ]
    }
   ],
   "source": [
    "n = int(input('Enter the number : '))\n",
    "\n",
    "binary = 0\n",
    "x = n\n",
    "i = 0\n",
    "while x != 0:\n",
    "    r = x % 2\n",
    "    x = x // 2\n",
    "    binary = r * (10 ** i) + binary\n",
    "    i = i + 1\n",
    "print(binary)"
   ]
  },
  {
   "cell_type": "code",
   "execution_count": null,
   "id": "25937c93",
   "metadata": {},
   "outputs": [],
   "source": []
  }
 ],
 "metadata": {
  "kernelspec": {
   "display_name": "Python 3 (ipykernel)",
   "language": "python",
   "name": "python3"
  },
  "language_info": {
   "codemirror_mode": {
    "name": "ipython",
    "version": 3
   },
   "file_extension": ".py",
   "mimetype": "text/x-python",
   "name": "python",
   "nbconvert_exporter": "python",
   "pygments_lexer": "ipython3",
   "version": "3.11.5"
  }
 },
 "nbformat": 4,
 "nbformat_minor": 5
}
