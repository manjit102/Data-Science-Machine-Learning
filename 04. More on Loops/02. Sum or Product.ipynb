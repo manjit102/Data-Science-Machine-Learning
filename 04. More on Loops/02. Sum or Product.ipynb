{
 "cells": [
  {
   "cell_type": "markdown",
   "id": "adca05ad",
   "metadata": {},
   "source": [
    "# <font color = 'red'>Sum or Product</font>"
   ]
  },
  {
   "cell_type": "markdown",
   "id": "081e8f43",
   "metadata": {},
   "source": [
    "Write a program that asks the user for a number N and a choice C. And then give them the possibility to choose between computing the sum and computing the product of all integers in the range 1 to N (both inclusive).\n",
    "* If C is equal to -\n",
    "*  1, then print the sum\n",
    "*  2, then print the product\n",
    "*  Any other number, then print '-1' (without the quotes)\n"
   ]
  },
  {
   "cell_type": "code",
   "execution_count": 8,
   "id": "4f5e7b53",
   "metadata": {},
   "outputs": [
    {
     "name": "stdout",
     "output_type": "stream",
     "text": [
      "Enter the number : 11\n",
      "1. Sum\n",
      "2. Product\n",
      "Select the option : 7\n",
      "-1\n"
     ]
    }
   ],
   "source": [
    "n = int(input('Enter the number : '))\n",
    "print('1. Sum')\n",
    "print('2. Product')\n",
    "c = int(input('Select the option : '))\n",
    "\n",
    "if c == 1:\n",
    "    s = 0\n",
    "    for i in range(1, n+1):\n",
    "        s = s + i\n",
    "    print(s)\n",
    "elif c == 2:\n",
    "    p = 1\n",
    "    for i in range(1, n+1):\n",
    "        p = p * i\n",
    "    print(p)\n",
    "else:\n",
    "    print(-1)"
   ]
  },
  {
   "cell_type": "code",
   "execution_count": null,
   "id": "b1f440e1",
   "metadata": {},
   "outputs": [],
   "source": []
  }
 ],
 "metadata": {
  "kernelspec": {
   "display_name": "Python 3 (ipykernel)",
   "language": "python",
   "name": "python3"
  },
  "language_info": {
   "codemirror_mode": {
    "name": "ipython",
    "version": 3
   },
   "file_extension": ".py",
   "mimetype": "text/x-python",
   "name": "python",
   "nbconvert_exporter": "python",
   "pygments_lexer": "ipython3",
   "version": "3.11.5"
  }
 },
 "nbformat": 4,
 "nbformat_minor": 5
}
